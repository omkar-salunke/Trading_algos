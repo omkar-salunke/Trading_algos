{
  "nbformat": 4,
  "nbformat_minor": 0,
  "metadata": {
    "colab": {
      "name": "Fama_French_Factor_study.ipynb",
      "provenance": [],
      "collapsed_sections": [],
      "authorship_tag": "ABX9TyP8aDCSYrYFkpsSQ0kGWT59",
      "include_colab_link": true
    },
    "kernelspec": {
      "name": "python3",
      "display_name": "Python 3"
    },
    "language_info": {
      "name": "python"
    }
  },
  "cells": [
    {
      "cell_type": "markdown",
      "metadata": {
        "id": "view-in-github",
        "colab_type": "text"
      },
      "source": [
        "<a href=\"https://colab.research.google.com/github/omkar-salunke/Trading_algos/blob/main/Fama_French_Factor_study.ipynb\" target=\"_parent\"><img src=\"https://colab.research.google.com/assets/colab-badge.svg\" alt=\"Open In Colab\"/></a>"
      ]
    },
    {
      "cell_type": "code",
      "metadata": {
        "colab": {
          "base_uri": "https://localhost:8080/"
        },
        "id": "wGJxMw0yqy-Q",
        "outputId": "36b30ba2-92d6-49c0-be84-9081913a8f9a"
      },
      "source": [
        "\n",
        "import pandas as pd\n",
        "import numpy as np\n",
        "from zipfile import ZipFile\n",
        "from datetime import datetime, timedelta\n",
        "import statsmodels.api as sm\n",
        "import matplotlib.pyplot as plt\n",
        "import seaborn as sns\n",
        "!pip install yfinance\n",
        "import yfinance as yahooFinance\n",
        "import datetime\n",
        "%pylab inline"
      ],
      "execution_count": 1,
      "outputs": [
        {
          "output_type": "stream",
          "text": [
            "/usr/local/lib/python3.7/dist-packages/statsmodels/tools/_testing.py:19: FutureWarning: pandas.util.testing is deprecated. Use the functions in the public API at pandas.testing instead.\n",
            "  import pandas.util.testing as tm\n"
          ],
          "name": "stderr"
        },
        {
          "output_type": "stream",
          "text": [
            "Requirement already satisfied: yfinance in /usr/local/lib/python3.7/dist-packages (0.1.63)\n",
            "Requirement already satisfied: numpy>=1.15 in /usr/local/lib/python3.7/dist-packages (from yfinance) (1.19.5)\n",
            "Requirement already satisfied: requests>=2.20 in /usr/local/lib/python3.7/dist-packages (from yfinance) (2.23.0)\n",
            "Requirement already satisfied: multitasking>=0.0.7 in /usr/local/lib/python3.7/dist-packages (from yfinance) (0.0.9)\n",
            "Requirement already satisfied: lxml>=4.5.1 in /usr/local/lib/python3.7/dist-packages (from yfinance) (4.6.3)\n",
            "Requirement already satisfied: pandas>=0.24 in /usr/local/lib/python3.7/dist-packages (from yfinance) (1.1.5)\n",
            "Requirement already satisfied: python-dateutil>=2.7.3 in /usr/local/lib/python3.7/dist-packages (from pandas>=0.24->yfinance) (2.8.2)\n",
            "Requirement already satisfied: pytz>=2017.2 in /usr/local/lib/python3.7/dist-packages (from pandas>=0.24->yfinance) (2018.9)\n",
            "Requirement already satisfied: six>=1.5 in /usr/local/lib/python3.7/dist-packages (from python-dateutil>=2.7.3->pandas>=0.24->yfinance) (1.15.0)\n",
            "Requirement already satisfied: idna<3,>=2.5 in /usr/local/lib/python3.7/dist-packages (from requests>=2.20->yfinance) (2.10)\n",
            "Requirement already satisfied: chardet<4,>=3.0.2 in /usr/local/lib/python3.7/dist-packages (from requests>=2.20->yfinance) (3.0.4)\n",
            "Requirement already satisfied: certifi>=2017.4.17 in /usr/local/lib/python3.7/dist-packages (from requests>=2.20->yfinance) (2021.5.30)\n",
            "Requirement already satisfied: urllib3!=1.25.0,!=1.25.1,<1.26,>=1.21.1 in /usr/local/lib/python3.7/dist-packages (from requests>=2.20->yfinance) (1.24.3)\n",
            "Populating the interactive namespace from numpy and matplotlib\n"
          ],
          "name": "stdout"
        }
      ]
    },
    {
      "cell_type": "code",
      "metadata": {
        "id": "ztfMKwbCscKv"
      },
      "source": [
        "!wget \"http://mba.tuck.dartmouth.edu/pages/faculty/ken.french/ftp/F-F_Research_Data_Factors_CSV.zip\""
      ],
      "execution_count": 2,
      "outputs": []
    },
    {
      "cell_type": "code",
      "metadata": {
        "id": "G9vUNCC-siAA"
      },
      "source": [
        "!unzip /content/F-F_Research_Data_Factors_CSV.zip"
      ],
      "execution_count": 3,
      "outputs": []
    },
    {
      "cell_type": "code",
      "metadata": {
        "colab": {
          "base_uri": "https://localhost:8080/",
          "height": 230
        },
        "id": "oia9Zo41q6Nn",
        "outputId": "5c69704d-04c2-456c-f1ce-9b148c39628d"
      },
      "source": [
        "FFdata = pd.read_csv('/content/F-F_Research_Data_Factors.CSV', \n",
        "                     header = 0, names = ['Date','MKT-RF','SMB','HML','RF'], \n",
        "                     skiprows=3)\n",
        "\n",
        "#Drop last row of data - String\n",
        "FFdata = FFdata[:1074]\n",
        "\n",
        "#Convert YYYYMM into Date\n",
        "FFdata['Date'] = pd.to_datetime(FFdata['Date'], format = \"%Y%m\")\n",
        "FFdata.index = FFdata['Date']\n",
        "FFdata.drop(FFdata.columns[0], axis=1,inplace=True)\n",
        "\n",
        "#Drop Days in YYYY-MM-DD\n",
        "FFdata.index = FFdata.index.map(lambda x: x.strftime('%Y-%m'))\n",
        "\n",
        "#Convert into float\n",
        "FFdata = FFdata.astype('float')\n",
        "FFdata.tail()"
      ],
      "execution_count": 4,
      "outputs": [
        {
          "output_type": "execute_result",
          "data": {
            "text/html": [
              "<div>\n",
              "<style scoped>\n",
              "    .dataframe tbody tr th:only-of-type {\n",
              "        vertical-align: middle;\n",
              "    }\n",
              "\n",
              "    .dataframe tbody tr th {\n",
              "        vertical-align: top;\n",
              "    }\n",
              "\n",
              "    .dataframe thead th {\n",
              "        text-align: right;\n",
              "    }\n",
              "</style>\n",
              "<table border=\"1\" class=\"dataframe\">\n",
              "  <thead>\n",
              "    <tr style=\"text-align: right;\">\n",
              "      <th></th>\n",
              "      <th>MKT-RF</th>\n",
              "      <th>SMB</th>\n",
              "      <th>HML</th>\n",
              "      <th>RF</th>\n",
              "    </tr>\n",
              "    <tr>\n",
              "      <th>Date</th>\n",
              "      <th></th>\n",
              "      <th></th>\n",
              "      <th></th>\n",
              "      <th></th>\n",
              "    </tr>\n",
              "  </thead>\n",
              "  <tbody>\n",
              "    <tr>\n",
              "      <th>2015-08</th>\n",
              "      <td>-6.04</td>\n",
              "      <td>0.44</td>\n",
              "      <td>2.73</td>\n",
              "      <td>0.00</td>\n",
              "    </tr>\n",
              "    <tr>\n",
              "      <th>2015-09</th>\n",
              "      <td>-3.07</td>\n",
              "      <td>-2.61</td>\n",
              "      <td>0.39</td>\n",
              "      <td>0.00</td>\n",
              "    </tr>\n",
              "    <tr>\n",
              "      <th>2015-10</th>\n",
              "      <td>7.75</td>\n",
              "      <td>-1.98</td>\n",
              "      <td>-0.25</td>\n",
              "      <td>0.00</td>\n",
              "    </tr>\n",
              "    <tr>\n",
              "      <th>2015-11</th>\n",
              "      <td>0.56</td>\n",
              "      <td>3.68</td>\n",
              "      <td>-0.49</td>\n",
              "      <td>0.00</td>\n",
              "    </tr>\n",
              "    <tr>\n",
              "      <th>2015-12</th>\n",
              "      <td>-2.17</td>\n",
              "      <td>-2.86</td>\n",
              "      <td>-2.45</td>\n",
              "      <td>0.01</td>\n",
              "    </tr>\n",
              "  </tbody>\n",
              "</table>\n",
              "</div>"
            ],
            "text/plain": [
              "         MKT-RF   SMB   HML    RF\n",
              "Date                             \n",
              "2015-08   -6.04  0.44  2.73  0.00\n",
              "2015-09   -3.07 -2.61  0.39  0.00\n",
              "2015-10    7.75 -1.98 -0.25  0.00\n",
              "2015-11    0.56  3.68 -0.49  0.00\n",
              "2015-12   -2.17 -2.86 -2.45  0.01"
            ]
          },
          "metadata": {},
          "execution_count": 4
        }
      ]
    },
    {
      "cell_type": "code",
      "metadata": {
        "colab": {
          "base_uri": "https://localhost:8080/",
          "height": 230
        },
        "id": "HQogt6Y4uoJJ",
        "outputId": "7869f6cf-0e20-41ab-fad8-79b7063dcec9"
      },
      "source": [
        "#Get Data from Yahoo\n",
        "# startDate \n",
        "startDate = datetime.datetime(1950, 1, 1)\n",
        " \n",
        "# endDate \n",
        "endDate = datetime.datetime(2016, 1, 1)\n",
        "GetInformation = yahooFinance.Ticker(\"TBGVX\")\n",
        " \n",
        "\n",
        "f=GetInformation.history(start=startDate,\n",
        "                                     end=endDate,interval = \"1mo\")\n",
        "f.head()"
      ],
      "execution_count": 5,
      "outputs": [
        {
          "output_type": "execute_result",
          "data": {
            "text/html": [
              "<div>\n",
              "<style scoped>\n",
              "    .dataframe tbody tr th:only-of-type {\n",
              "        vertical-align: middle;\n",
              "    }\n",
              "\n",
              "    .dataframe tbody tr th {\n",
              "        vertical-align: top;\n",
              "    }\n",
              "\n",
              "    .dataframe thead th {\n",
              "        text-align: right;\n",
              "    }\n",
              "</style>\n",
              "<table border=\"1\" class=\"dataframe\">\n",
              "  <thead>\n",
              "    <tr style=\"text-align: right;\">\n",
              "      <th></th>\n",
              "      <th>Open</th>\n",
              "      <th>High</th>\n",
              "      <th>Low</th>\n",
              "      <th>Close</th>\n",
              "      <th>Volume</th>\n",
              "      <th>Dividends</th>\n",
              "      <th>Stock Splits</th>\n",
              "    </tr>\n",
              "    <tr>\n",
              "      <th>Date</th>\n",
              "      <th></th>\n",
              "      <th></th>\n",
              "      <th></th>\n",
              "      <th></th>\n",
              "      <th></th>\n",
              "      <th></th>\n",
              "      <th></th>\n",
              "    </tr>\n",
              "  </thead>\n",
              "  <tbody>\n",
              "    <tr>\n",
              "      <th>1993-07-01</th>\n",
              "      <td>6.612176</td>\n",
              "      <td>6.823765</td>\n",
              "      <td>6.612176</td>\n",
              "      <td>6.823765</td>\n",
              "      <td>0.0</td>\n",
              "      <td>0.0</td>\n",
              "      <td>0</td>\n",
              "    </tr>\n",
              "    <tr>\n",
              "      <th>1993-08-01</th>\n",
              "      <td>6.836988</td>\n",
              "      <td>7.088251</td>\n",
              "      <td>6.836988</td>\n",
              "      <td>7.075026</td>\n",
              "      <td>0.0</td>\n",
              "      <td>0.0</td>\n",
              "      <td>0</td>\n",
              "    </tr>\n",
              "    <tr>\n",
              "      <th>1993-09-01</th>\n",
              "      <td>7.075027</td>\n",
              "      <td>7.075027</td>\n",
              "      <td>6.803928</td>\n",
              "      <td>6.817153</td>\n",
              "      <td>0.0</td>\n",
              "      <td>0.0</td>\n",
              "      <td>0</td>\n",
              "    </tr>\n",
              "    <tr>\n",
              "      <th>1993-10-01</th>\n",
              "      <td>6.823763</td>\n",
              "      <td>7.075026</td>\n",
              "      <td>6.823763</td>\n",
              "      <td>7.075026</td>\n",
              "      <td>0.0</td>\n",
              "      <td>0.0</td>\n",
              "      <td>0</td>\n",
              "    </tr>\n",
              "    <tr>\n",
              "      <th>1993-11-01</th>\n",
              "      <td>7.061803</td>\n",
              "      <td>7.108088</td>\n",
              "      <td>7.002293</td>\n",
              "      <td>7.081639</td>\n",
              "      <td>0.0</td>\n",
              "      <td>0.0</td>\n",
              "      <td>0</td>\n",
              "    </tr>\n",
              "  </tbody>\n",
              "</table>\n",
              "</div>"
            ],
            "text/plain": [
              "                Open      High       Low  ...  Volume  Dividends  Stock Splits\n",
              "Date                                      ...                                 \n",
              "1993-07-01  6.612176  6.823765  6.612176  ...     0.0        0.0             0\n",
              "1993-08-01  6.836988  7.088251  6.836988  ...     0.0        0.0             0\n",
              "1993-09-01  7.075027  7.075027  6.803928  ...     0.0        0.0             0\n",
              "1993-10-01  6.823763  7.075026  6.823763  ...     0.0        0.0             0\n",
              "1993-11-01  7.061803  7.108088  7.002293  ...     0.0        0.0             0\n",
              "\n",
              "[5 rows x 7 columns]"
            ]
          },
          "metadata": {},
          "execution_count": 5
        }
      ]
    },
    {
      "cell_type": "code",
      "metadata": {
        "colab": {
          "base_uri": "https://localhost:8080/",
          "height": 230
        },
        "id": "ZwS1PY6au2Cy",
        "outputId": "008839e0-b42a-46ba-cdf1-04d2b692679c"
      },
      "source": [
        "#Fix Date Column\n",
        "f.index = f.index.map(lambda x: x.strftime('%Y-%m'))\n",
        "#Ln Return\n",
        "f['LnReturn'] = np.log(f['Close']) - np.log(f['Close'].shift(1))\n",
        "f.head()"
      ],
      "execution_count": 6,
      "outputs": [
        {
          "output_type": "execute_result",
          "data": {
            "text/html": [
              "<div>\n",
              "<style scoped>\n",
              "    .dataframe tbody tr th:only-of-type {\n",
              "        vertical-align: middle;\n",
              "    }\n",
              "\n",
              "    .dataframe tbody tr th {\n",
              "        vertical-align: top;\n",
              "    }\n",
              "\n",
              "    .dataframe thead th {\n",
              "        text-align: right;\n",
              "    }\n",
              "</style>\n",
              "<table border=\"1\" class=\"dataframe\">\n",
              "  <thead>\n",
              "    <tr style=\"text-align: right;\">\n",
              "      <th></th>\n",
              "      <th>Open</th>\n",
              "      <th>High</th>\n",
              "      <th>Low</th>\n",
              "      <th>Close</th>\n",
              "      <th>Volume</th>\n",
              "      <th>Dividends</th>\n",
              "      <th>Stock Splits</th>\n",
              "      <th>LnReturn</th>\n",
              "    </tr>\n",
              "    <tr>\n",
              "      <th>Date</th>\n",
              "      <th></th>\n",
              "      <th></th>\n",
              "      <th></th>\n",
              "      <th></th>\n",
              "      <th></th>\n",
              "      <th></th>\n",
              "      <th></th>\n",
              "      <th></th>\n",
              "    </tr>\n",
              "  </thead>\n",
              "  <tbody>\n",
              "    <tr>\n",
              "      <th>1993-07</th>\n",
              "      <td>6.612176</td>\n",
              "      <td>6.823765</td>\n",
              "      <td>6.612176</td>\n",
              "      <td>6.823765</td>\n",
              "      <td>0.0</td>\n",
              "      <td>0.0</td>\n",
              "      <td>0</td>\n",
              "      <td>NaN</td>\n",
              "    </tr>\n",
              "    <tr>\n",
              "      <th>1993-08</th>\n",
              "      <td>6.836988</td>\n",
              "      <td>7.088251</td>\n",
              "      <td>6.836988</td>\n",
              "      <td>7.075026</td>\n",
              "      <td>0.0</td>\n",
              "      <td>0.0</td>\n",
              "      <td>0</td>\n",
              "      <td>0.036160</td>\n",
              "    </tr>\n",
              "    <tr>\n",
              "      <th>1993-09</th>\n",
              "      <td>7.075027</td>\n",
              "      <td>7.075027</td>\n",
              "      <td>6.803928</td>\n",
              "      <td>6.817153</td>\n",
              "      <td>0.0</td>\n",
              "      <td>0.0</td>\n",
              "      <td>0</td>\n",
              "      <td>-0.037129</td>\n",
              "    </tr>\n",
              "    <tr>\n",
              "      <th>1993-10</th>\n",
              "      <td>6.823763</td>\n",
              "      <td>7.075026</td>\n",
              "      <td>6.823763</td>\n",
              "      <td>7.075026</td>\n",
              "      <td>0.0</td>\n",
              "      <td>0.0</td>\n",
              "      <td>0</td>\n",
              "      <td>0.037129</td>\n",
              "    </tr>\n",
              "    <tr>\n",
              "      <th>1993-11</th>\n",
              "      <td>7.061803</td>\n",
              "      <td>7.108088</td>\n",
              "      <td>7.002293</td>\n",
              "      <td>7.081639</td>\n",
              "      <td>0.0</td>\n",
              "      <td>0.0</td>\n",
              "      <td>0</td>\n",
              "      <td>0.000934</td>\n",
              "    </tr>\n",
              "  </tbody>\n",
              "</table>\n",
              "</div>"
            ],
            "text/plain": [
              "             Open      High       Low  ...  Dividends  Stock Splits  LnReturn\n",
              "Date                                   ...                                   \n",
              "1993-07  6.612176  6.823765  6.612176  ...        0.0             0       NaN\n",
              "1993-08  6.836988  7.088251  6.836988  ...        0.0             0  0.036160\n",
              "1993-09  7.075027  7.075027  6.803928  ...        0.0             0 -0.037129\n",
              "1993-10  6.823763  7.075026  6.823763  ...        0.0             0  0.037129\n",
              "1993-11  7.061803  7.108088  7.002293  ...        0.0             0  0.000934\n",
              "\n",
              "[5 rows x 8 columns]"
            ]
          },
          "metadata": {},
          "execution_count": 6
        }
      ]
    },
    {
      "cell_type": "code",
      "metadata": {
        "id": "0-5Qa0VDyTlM"
      },
      "source": [
        "Filter_f = FFdata.loc[f.index.to_list()]"
      ],
      "execution_count": 7,
      "outputs": []
    },
    {
      "cell_type": "code",
      "metadata": {
        "colab": {
          "base_uri": "https://localhost:8080/",
          "height": 230
        },
        "id": "zI2vpod1v52a",
        "outputId": "5a3e5b55-cd62-4d5f-df79-d52cbe4a294a"
      },
      "source": [
        "#Merge DF\n",
        "data2 = pd.concat([f,Filter_f], axis = 1)\n",
        "\n",
        "#Excess Return\n",
        "data2['XRtrn'] = (data2['LnReturn']*100 - data2['RF'])\n",
        "#Align Data\n",
        "df = data2[np.isfinite(data2['XRtrn'])]\n",
        "\n",
        "df.tail()"
      ],
      "execution_count": 8,
      "outputs": [
        {
          "output_type": "execute_result",
          "data": {
            "text/html": [
              "<div>\n",
              "<style scoped>\n",
              "    .dataframe tbody tr th:only-of-type {\n",
              "        vertical-align: middle;\n",
              "    }\n",
              "\n",
              "    .dataframe tbody tr th {\n",
              "        vertical-align: top;\n",
              "    }\n",
              "\n",
              "    .dataframe thead th {\n",
              "        text-align: right;\n",
              "    }\n",
              "</style>\n",
              "<table border=\"1\" class=\"dataframe\">\n",
              "  <thead>\n",
              "    <tr style=\"text-align: right;\">\n",
              "      <th></th>\n",
              "      <th>Open</th>\n",
              "      <th>High</th>\n",
              "      <th>Low</th>\n",
              "      <th>Close</th>\n",
              "      <th>Volume</th>\n",
              "      <th>Dividends</th>\n",
              "      <th>Stock Splits</th>\n",
              "      <th>LnReturn</th>\n",
              "      <th>MKT-RF</th>\n",
              "      <th>SMB</th>\n",
              "      <th>HML</th>\n",
              "      <th>RF</th>\n",
              "      <th>XRtrn</th>\n",
              "    </tr>\n",
              "    <tr>\n",
              "      <th>Date</th>\n",
              "      <th></th>\n",
              "      <th></th>\n",
              "      <th></th>\n",
              "      <th></th>\n",
              "      <th></th>\n",
              "      <th></th>\n",
              "      <th></th>\n",
              "      <th></th>\n",
              "      <th></th>\n",
              "      <th></th>\n",
              "      <th></th>\n",
              "      <th></th>\n",
              "      <th></th>\n",
              "    </tr>\n",
              "  </thead>\n",
              "  <tbody>\n",
              "    <tr>\n",
              "      <th>2015-08</th>\n",
              "      <td>25.064097</td>\n",
              "      <td>25.194493</td>\n",
              "      <td>23.182659</td>\n",
              "      <td>23.983667</td>\n",
              "      <td>0.0</td>\n",
              "      <td>0.0</td>\n",
              "      <td>0</td>\n",
              "      <td>-0.042576</td>\n",
              "      <td>-6.04</td>\n",
              "      <td>0.44</td>\n",
              "      <td>2.73</td>\n",
              "      <td>0.00</td>\n",
              "      <td>-4.257571</td>\n",
              "    </tr>\n",
              "    <tr>\n",
              "      <th>2015-09</th>\n",
              "      <td>23.564530</td>\n",
              "      <td>24.020919</td>\n",
              "      <td>23.015001</td>\n",
              "      <td>23.303738</td>\n",
              "      <td>0.0</td>\n",
              "      <td>0.0</td>\n",
              "      <td>0</td>\n",
              "      <td>-0.028759</td>\n",
              "      <td>-3.07</td>\n",
              "      <td>-2.61</td>\n",
              "      <td>0.39</td>\n",
              "      <td>0.00</td>\n",
              "      <td>-2.875931</td>\n",
              "    </tr>\n",
              "    <tr>\n",
              "      <th>2015-10</th>\n",
              "      <td>23.322369</td>\n",
              "      <td>24.635649</td>\n",
              "      <td>23.322369</td>\n",
              "      <td>24.551823</td>\n",
              "      <td>0.0</td>\n",
              "      <td>0.0</td>\n",
              "      <td>0</td>\n",
              "      <td>0.052172</td>\n",
              "      <td>7.75</td>\n",
              "      <td>-1.98</td>\n",
              "      <td>-0.25</td>\n",
              "      <td>0.00</td>\n",
              "      <td>5.217233</td>\n",
              "    </tr>\n",
              "    <tr>\n",
              "      <th>2015-11</th>\n",
              "      <td>24.579765</td>\n",
              "      <td>24.644964</td>\n",
              "      <td>24.058179</td>\n",
              "      <td>24.449369</td>\n",
              "      <td>0.0</td>\n",
              "      <td>0.0</td>\n",
              "      <td>0</td>\n",
              "      <td>-0.004182</td>\n",
              "      <td>0.56</td>\n",
              "      <td>3.68</td>\n",
              "      <td>-0.49</td>\n",
              "      <td>0.00</td>\n",
              "      <td>-0.418167</td>\n",
              "    </tr>\n",
              "    <tr>\n",
              "      <th>2015-12</th>\n",
              "      <td>24.514565</td>\n",
              "      <td>24.514565</td>\n",
              "      <td>22.782152</td>\n",
              "      <td>22.782152</td>\n",
              "      <td>0.0</td>\n",
              "      <td>0.0</td>\n",
              "      <td>0</td>\n",
              "      <td>-0.070627</td>\n",
              "      <td>-2.17</td>\n",
              "      <td>-2.86</td>\n",
              "      <td>-2.45</td>\n",
              "      <td>0.01</td>\n",
              "      <td>-7.072700</td>\n",
              "    </tr>\n",
              "  </tbody>\n",
              "</table>\n",
              "</div>"
            ],
            "text/plain": [
              "              Open       High        Low      Close  ...   SMB   HML    RF     XRtrn\n",
              "Date                                                 ...                            \n",
              "2015-08  25.064097  25.194493  23.182659  23.983667  ...  0.44  2.73  0.00 -4.257571\n",
              "2015-09  23.564530  24.020919  23.015001  23.303738  ... -2.61  0.39  0.00 -2.875931\n",
              "2015-10  23.322369  24.635649  23.322369  24.551823  ... -1.98 -0.25  0.00  5.217233\n",
              "2015-11  24.579765  24.644964  24.058179  24.449369  ...  3.68 -0.49  0.00 -0.418167\n",
              "2015-12  24.514565  24.514565  22.782152  22.782152  ... -2.86 -2.45  0.01 -7.072700\n",
              "\n",
              "[5 rows x 13 columns]"
            ]
          },
          "metadata": {},
          "execution_count": 8
        }
      ]
    },
    {
      "cell_type": "code",
      "metadata": {
        "colab": {
          "base_uri": "https://localhost:8080/"
        },
        "id": "zP9ncRMmxZlL",
        "outputId": "228ba910-752d-4efc-e2a9-775caf3de44f"
      },
      "source": [
        "y = df['XRtrn']\n",
        "X = df.iloc[:,[8,9,10]]\n",
        "X = sm.add_constant(X)\n",
        "\n",
        "\n",
        "model = sm.OLS(y, X)\n",
        "results = model.fit()\n",
        "print(results.summary())"
      ],
      "execution_count": 9,
      "outputs": [
        {
          "output_type": "stream",
          "text": [
            "                            OLS Regression Results                            \n",
            "==============================================================================\n",
            "Dep. Variable:                  XRtrn   R-squared:                       0.494\n",
            "Model:                            OLS   Adj. R-squared:                  0.488\n",
            "Method:                 Least Squares   F-statistic:                     79.71\n",
            "Date:                Sun, 29 Aug 2021   Prob (F-statistic):           5.15e-36\n",
            "Time:                        12:12:33   Log-Likelihood:                -610.55\n",
            "No. Observations:                 249   AIC:                             1229.\n",
            "Df Residuals:                     245   BIC:                             1243.\n",
            "Df Model:                           3                                         \n",
            "Covariance Type:            nonrobust                                         \n",
            "==============================================================================\n",
            "                 coef    std err          t      P>|t|      [0.025      0.975]\n",
            "------------------------------------------------------------------------------\n",
            "const         -0.3483      0.183     -1.898      0.059      -0.710       0.013\n",
            "MKT-RF         0.6465      0.043     15.175      0.000       0.563       0.730\n",
            "SMB            0.0139      0.057      0.245      0.806      -0.098       0.126\n",
            "HML            0.1937      0.064      3.025      0.003       0.068       0.320\n",
            "==============================================================================\n",
            "Omnibus:                      111.996   Durbin-Watson:                   2.081\n",
            "Prob(Omnibus):                  0.000   Jarque-Bera (JB):              581.891\n",
            "Skew:                          -1.754   Prob(JB):                    4.40e-127\n",
            "Kurtosis:                       9.617   Cond. No.                         4.79\n",
            "==============================================================================\n",
            "\n",
            "Warnings:\n",
            "[1] Standard Errors assume that the covariance matrix of the errors is correctly specified.\n"
          ],
          "name": "stdout"
        }
      ]
    },
    {
      "cell_type": "code",
      "metadata": {
        "colab": {
          "base_uri": "https://localhost:8080/",
          "height": 585
        },
        "id": "3cUB7w1hzEgT",
        "outputId": "a3d7aff7-c337-4f8e-f55f-a32a268c7458"
      },
      "source": [
        "\n",
        "fig = plt.figure(figsize=(12,8))\n",
        "fig = sm.graphics.plot_partregress_grid(results, fig = fig)\n",
        "plt.show()"
      ],
      "execution_count": 10,
      "outputs": [
        {
          "output_type": "display_data",
          "data": {
            "image/png": "[encoded data removed]",
            "text/plain": [
              "<Figure size 864x576 with 4 Axes>"
            ]
          },
          "metadata": {
            "needs_background": "light"
          }
        }
      ]
    },
    {
      "cell_type": "code",
      "metadata": {
        "id": "f8GDpQ3nzgge"
      },
      "source": [
        ""
      ],
      "execution_count": 10,
      "outputs": []
    }
  ]
}