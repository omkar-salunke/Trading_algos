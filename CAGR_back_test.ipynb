{
  "nbformat": 4,
  "nbformat_minor": 0,
  "metadata": {
    "colab": {
      "name": "Untitled3.ipynb",
      "provenance": [],
      "authorship_tag": "ABX9TyPpAyMNm9YvHMbbthMBbUEb",
      "include_colab_link": true
    },
    "kernelspec": {
      "name": "python3",
      "display_name": "Python 3"
    },
    "language_info": {
      "name": "python"
    }
  },
  "cells": [
    {
      "cell_type": "markdown",
      "metadata": {
        "id": "view-in-github",
        "colab_type": "text"
      },
      "source": [
        "<a href=\"https://colab.research.google.com/github/omkar-salunke/Trading_algos/blob/main/CAGR_back_test.ipynb\" target=\"_parent\"><img src=\"https://colab.research.google.com/assets/colab-badge.svg\" alt=\"Open In Colab\"/></a>"
      ]
    },
    {
      "cell_type": "code",
      "metadata": {
        "id": "lHDujfSecfsd"
      },
      "source": [
        "import pandas_datareader as pdr\n",
        "import numpy as np\n",
        "import datetime\n",
        "import matplotlib.pyplot as plt\n",
        "%matplotlib inline"
      ],
      "execution_count": 11,
      "outputs": []
    },
    {
      "cell_type": "code",
      "metadata": {
        "id": "Td0PgKV4dZBl"
      },
      "source": [
        "\n",
        "#define date range\n",
        "START = datetime.datetime(2000, 1, 1)\n",
        "END = datetime.datetime(2020, 12, 31)\n",
        "\n",
        "YEARS = (END - START).days / 365.25"
      ],
      "execution_count": 12,
      "outputs": []
    },
    {
      "cell_type": "code",
      "metadata": {
        "id": "mjQHxEoQdavc"
      },
      "source": [
        "\n",
        "#define variables\n",
        "STARTING_BALANCE = 10000\n",
        "down_days = 1"
      ],
      "execution_count": 13,
      "outputs": []
    },
    {
      "cell_type": "code",
      "metadata": {
        "colab": {
          "base_uri": "https://localhost:8080/",
          "height": 235
        },
        "id": "hDUZ-satdcMK",
        "outputId": "3685c258-6f69-478e-92c1-e4f4c041baf6"
      },
      "source": [
        "#download data\n",
        "price = pdr.get_data_yahoo('^GSPC', START, END)\n",
        "price.tail()"
      ],
      "execution_count": 14,
      "outputs": [
        {
          "output_type": "execute_result",
          "data": {
            "text/html": [
              "<div>\n",
              "<style scoped>\n",
              "    .dataframe tbody tr th:only-of-type {\n",
              "        vertical-align: middle;\n",
              "    }\n",
              "\n",
              "    .dataframe tbody tr th {\n",
              "        vertical-align: top;\n",
              "    }\n",
              "\n",
              "    .dataframe thead th {\n",
              "        text-align: right;\n",
              "    }\n",
              "</style>\n",
              "<table border=\"1\" class=\"dataframe\">\n",
              "  <thead>\n",
              "    <tr style=\"text-align: right;\">\n",
              "      <th></th>\n",
              "      <th>High</th>\n",
              "      <th>Low</th>\n",
              "      <th>Open</th>\n",
              "      <th>Close</th>\n",
              "      <th>Volume</th>\n",
              "      <th>Adj Close</th>\n",
              "    </tr>\n",
              "    <tr>\n",
              "      <th>Date</th>\n",
              "      <th></th>\n",
              "      <th></th>\n",
              "      <th></th>\n",
              "      <th></th>\n",
              "      <th></th>\n",
              "      <th></th>\n",
              "    </tr>\n",
              "  </thead>\n",
              "  <tbody>\n",
              "    <tr>\n",
              "      <th>2020-12-24</th>\n",
              "      <td>3703.820068</td>\n",
              "      <td>3689.320068</td>\n",
              "      <td>3694.030029</td>\n",
              "      <td>3703.060059</td>\n",
              "      <td>1885090000</td>\n",
              "      <td>3703.060059</td>\n",
              "    </tr>\n",
              "    <tr>\n",
              "      <th>2020-12-28</th>\n",
              "      <td>3740.510010</td>\n",
              "      <td>3723.030029</td>\n",
              "      <td>3723.030029</td>\n",
              "      <td>3735.360107</td>\n",
              "      <td>3527460000</td>\n",
              "      <td>3735.360107</td>\n",
              "    </tr>\n",
              "    <tr>\n",
              "      <th>2020-12-29</th>\n",
              "      <td>3756.120117</td>\n",
              "      <td>3723.310059</td>\n",
              "      <td>3750.010010</td>\n",
              "      <td>3727.040039</td>\n",
              "      <td>3387030000</td>\n",
              "      <td>3727.040039</td>\n",
              "    </tr>\n",
              "    <tr>\n",
              "      <th>2020-12-30</th>\n",
              "      <td>3744.629883</td>\n",
              "      <td>3730.209961</td>\n",
              "      <td>3736.189941</td>\n",
              "      <td>3732.040039</td>\n",
              "      <td>3145200000</td>\n",
              "      <td>3732.040039</td>\n",
              "    </tr>\n",
              "    <tr>\n",
              "      <th>2020-12-31</th>\n",
              "      <td>3760.199951</td>\n",
              "      <td>3726.879883</td>\n",
              "      <td>3733.270020</td>\n",
              "      <td>3756.070068</td>\n",
              "      <td>3172510000</td>\n",
              "      <td>3756.070068</td>\n",
              "    </tr>\n",
              "  </tbody>\n",
              "</table>\n",
              "</div>"
            ],
            "text/plain": [
              "                   High          Low  ...      Volume    Adj Close\n",
              "Date                                  ...                         \n",
              "2020-12-24  3703.820068  3689.320068  ...  1885090000  3703.060059\n",
              "2020-12-28  3740.510010  3723.030029  ...  3527460000  3735.360107\n",
              "2020-12-29  3756.120117  3723.310059  ...  3387030000  3727.040039\n",
              "2020-12-30  3744.629883  3730.209961  ...  3145200000  3732.040039\n",
              "2020-12-31  3760.199951  3726.879883  ...  3172510000  3756.070068\n",
              "\n",
              "[5 rows x 6 columns]"
            ]
          },
          "metadata": {
            "tags": []
          },
          "execution_count": 14
        }
      ]
    },
    {
      "cell_type": "code",
      "metadata": {
        "colab": {
          "base_uri": "https://localhost:8080/",
          "height": 235
        },
        "id": "nsQsE-juddoS",
        "outputId": "49524e8e-9ff7-40db-f462-2d80cedca8fe"
      },
      "source": [
        "#drop redundant columns\n",
        "price = price.drop(['High', 'Low', 'Volume', 'Adj Close'], 1)\n",
        "price.tail()"
      ],
      "execution_count": 15,
      "outputs": [
        {
          "output_type": "execute_result",
          "data": {
            "text/html": [
              "<div>\n",
              "<style scoped>\n",
              "    .dataframe tbody tr th:only-of-type {\n",
              "        vertical-align: middle;\n",
              "    }\n",
              "\n",
              "    .dataframe tbody tr th {\n",
              "        vertical-align: top;\n",
              "    }\n",
              "\n",
              "    .dataframe thead th {\n",
              "        text-align: right;\n",
              "    }\n",
              "</style>\n",
              "<table border=\"1\" class=\"dataframe\">\n",
              "  <thead>\n",
              "    <tr style=\"text-align: right;\">\n",
              "      <th></th>\n",
              "      <th>Open</th>\n",
              "      <th>Close</th>\n",
              "    </tr>\n",
              "    <tr>\n",
              "      <th>Date</th>\n",
              "      <th></th>\n",
              "      <th></th>\n",
              "    </tr>\n",
              "  </thead>\n",
              "  <tbody>\n",
              "    <tr>\n",
              "      <th>2020-12-24</th>\n",
              "      <td>3694.030029</td>\n",
              "      <td>3703.060059</td>\n",
              "    </tr>\n",
              "    <tr>\n",
              "      <th>2020-12-28</th>\n",
              "      <td>3723.030029</td>\n",
              "      <td>3735.360107</td>\n",
              "    </tr>\n",
              "    <tr>\n",
              "      <th>2020-12-29</th>\n",
              "      <td>3750.010010</td>\n",
              "      <td>3727.040039</td>\n",
              "    </tr>\n",
              "    <tr>\n",
              "      <th>2020-12-30</th>\n",
              "      <td>3736.189941</td>\n",
              "      <td>3732.040039</td>\n",
              "    </tr>\n",
              "    <tr>\n",
              "      <th>2020-12-31</th>\n",
              "      <td>3733.270020</td>\n",
              "      <td>3756.070068</td>\n",
              "    </tr>\n",
              "  </tbody>\n",
              "</table>\n",
              "</div>"
            ],
            "text/plain": [
              "                   Open        Close\n",
              "Date                                \n",
              "2020-12-24  3694.030029  3703.060059\n",
              "2020-12-28  3723.030029  3735.360107\n",
              "2020-12-29  3750.010010  3727.040039\n",
              "2020-12-30  3736.189941  3732.040039\n",
              "2020-12-31  3733.270020  3756.070068"
            ]
          },
          "metadata": {
            "tags": []
          },
          "execution_count": 15
        }
      ]
    },
    {
      "cell_type": "code",
      "metadata": {
        "colab": {
          "base_uri": "https://localhost:8080/",
          "height": 262
        },
        "id": "HeZXPj-vdfs9",
        "outputId": "f01c39da-b9e2-4d72-d41c-6c7be6b189bd"
      },
      "source": [
        "#plot chart\n",
        "plt.style.use('bmh')\n",
        "plt.plot(price.Close)\n",
        "plt.show()"
      ],
      "execution_count": 16,
      "outputs": [
        {
          "output_type": "display_data",
          "data": {
            "image/png": "[encoded data removed]",
            "text/plain": [
              "<Figure size 432x288 with 1 Axes>"
            ]
          },
          "metadata": {
            "tags": [],
            "needs_background": "light"
          }
        }
      ]
    },
    {
      "cell_type": "code",
      "metadata": {
        "id": "9iXt-paJdhFj"
      },
      "source": [
        "#calculate return and balance\n",
        "price['oc'] = price.Close / price.Open\n",
        "price['cc'] = price.Close / price.Close.shift(1)\n",
        "price.cc.iat[0] = 1\n",
        "price['Bench_Bal'] = STARTING_BALANCE * price.cc.cumprod()"
      ],
      "execution_count": 17,
      "outputs": []
    },
    {
      "cell_type": "code",
      "metadata": {
        "colab": {
          "base_uri": "https://localhost:8080/"
        },
        "id": "iSx0WEJudjV7",
        "outputId": "fa9be914-2922-4223-9450-751fb7a08781"
      },
      "source": [
        "#calculate benchmark drawdown\n",
        "price['Bench_Peak'] = price.Bench_Bal.cummax()\n",
        "price['Bench_DD'] = price.Bench_Bal - price.Bench_Peak\n",
        "\n",
        "bench_dd = round(((price.Bench_DD / price.Bench_Peak).min() * 100), 2)\n",
        "\n",
        "bench_dd"
      ],
      "execution_count": 18,
      "outputs": [
        {
          "output_type": "execute_result",
          "data": {
            "text/plain": [
              "-56.78"
            ]
          },
          "metadata": {
            "tags": []
          },
          "execution_count": 18
        }
      ]
    },
    {
      "cell_type": "code",
      "metadata": {
        "colab": {
          "base_uri": "https://localhost:8080/",
          "height": 235
        },
        "id": "rfBIk-YBdkzm",
        "outputId": "07cca688-5787-45fe-bcef-13afc7e3a7ee"
      },
      "source": [
        "#calculate additional columns for strategy\n",
        "\n",
        "#check if today is a down day\n",
        "price['Down'] = price.oc < 1\n",
        "\n",
        "#count consecutive down days\n",
        "#https://stackoverflow.com/questions/27626542/counting-consecutive-positive-value-in-python-array\n",
        "down = price['Down']\n",
        "price['Consecutive'] = down * (down.groupby((down != down.shift()).cumsum()).cumcount() + 1)\n",
        "\n",
        "price.tail()"
      ],
      "execution_count": 19,
      "outputs": [
        {
          "output_type": "execute_result",
          "data": {
            "text/html": [
              "<div>\n",
              "<style scoped>\n",
              "    .dataframe tbody tr th:only-of-type {\n",
              "        vertical-align: middle;\n",
              "    }\n",
              "\n",
              "    .dataframe tbody tr th {\n",
              "        vertical-align: top;\n",
              "    }\n",
              "\n",
              "    .dataframe thead th {\n",
              "        text-align: right;\n",
              "    }\n",
              "</style>\n",
              "<table border=\"1\" class=\"dataframe\">\n",
              "  <thead>\n",
              "    <tr style=\"text-align: right;\">\n",
              "      <th></th>\n",
              "      <th>Open</th>\n",
              "      <th>Close</th>\n",
              "      <th>oc</th>\n",
              "      <th>cc</th>\n",
              "      <th>Bench_Bal</th>\n",
              "      <th>Bench_Peak</th>\n",
              "      <th>Bench_DD</th>\n",
              "      <th>Down</th>\n",
              "      <th>Consecutive</th>\n",
              "    </tr>\n",
              "    <tr>\n",
              "      <th>Date</th>\n",
              "      <th></th>\n",
              "      <th></th>\n",
              "      <th></th>\n",
              "      <th></th>\n",
              "      <th></th>\n",
              "      <th></th>\n",
              "      <th></th>\n",
              "      <th></th>\n",
              "      <th></th>\n",
              "    </tr>\n",
              "  </thead>\n",
              "  <tbody>\n",
              "    <tr>\n",
              "      <th>2020-12-24</th>\n",
              "      <td>3694.030029</td>\n",
              "      <td>3703.060059</td>\n",
              "      <td>1.002444</td>\n",
              "      <td>1.003537</td>\n",
              "      <td>25446.737491</td>\n",
              "      <td>25580.187569</td>\n",
              "      <td>-133.450078</td>\n",
              "      <td>False</td>\n",
              "      <td>0</td>\n",
              "    </tr>\n",
              "    <tr>\n",
              "      <th>2020-12-28</th>\n",
              "      <td>3723.030029</td>\n",
              "      <td>3735.360107</td>\n",
              "      <td>1.003312</td>\n",
              "      <td>1.008723</td>\n",
              "      <td>25668.697397</td>\n",
              "      <td>25668.697397</td>\n",
              "      <td>0.000000</td>\n",
              "      <td>False</td>\n",
              "      <td>0</td>\n",
              "    </tr>\n",
              "    <tr>\n",
              "      <th>2020-12-29</th>\n",
              "      <td>3750.010010</td>\n",
              "      <td>3727.040039</td>\n",
              "      <td>0.993875</td>\n",
              "      <td>0.997773</td>\n",
              "      <td>25611.523440</td>\n",
              "      <td>25668.697397</td>\n",
              "      <td>-57.173957</td>\n",
              "      <td>True</td>\n",
              "      <td>1</td>\n",
              "    </tr>\n",
              "    <tr>\n",
              "      <th>2020-12-30</th>\n",
              "      <td>3736.189941</td>\n",
              "      <td>3732.040039</td>\n",
              "      <td>0.998889</td>\n",
              "      <td>1.001342</td>\n",
              "      <td>25645.882507</td>\n",
              "      <td>25668.697397</td>\n",
              "      <td>-22.814890</td>\n",
              "      <td>True</td>\n",
              "      <td>2</td>\n",
              "    </tr>\n",
              "    <tr>\n",
              "      <th>2020-12-31</th>\n",
              "      <td>3733.270020</td>\n",
              "      <td>3756.070068</td>\n",
              "      <td>1.006107</td>\n",
              "      <td>1.006439</td>\n",
              "      <td>25811.012383</td>\n",
              "      <td>25811.012383</td>\n",
              "      <td>0.000000</td>\n",
              "      <td>False</td>\n",
              "      <td>0</td>\n",
              "    </tr>\n",
              "  </tbody>\n",
              "</table>\n",
              "</div>"
            ],
            "text/plain": [
              "                   Open        Close        oc  ...    Bench_DD   Down  Consecutive\n",
              "Date                                            ...                                \n",
              "2020-12-24  3694.030029  3703.060059  1.002444  ... -133.450078  False            0\n",
              "2020-12-28  3723.030029  3735.360107  1.003312  ...    0.000000  False            0\n",
              "2020-12-29  3750.010010  3727.040039  0.993875  ...  -57.173957   True            1\n",
              "2020-12-30  3736.189941  3732.040039  0.998889  ...  -22.814890   True            2\n",
              "2020-12-31  3733.270020  3756.070068  1.006107  ...    0.000000  False            0\n",
              "\n",
              "[5 rows x 9 columns]"
            ]
          },
          "metadata": {
            "tags": []
          },
          "execution_count": 19
        }
      ]
    },
    {
      "cell_type": "code",
      "metadata": {
        "id": "fN-hI68YdmjJ"
      },
      "source": [
        "\n",
        "#identify entries and allocate trading fees\n",
        "price['Long'] = price.Consecutive >= down_days"
      ],
      "execution_count": 20,
      "outputs": []
    },
    {
      "cell_type": "code",
      "metadata": {
        "colab": {
          "base_uri": "https://localhost:8080/",
          "height": 235
        },
        "id": "z7zIrOfgdoST",
        "outputId": "2c84f6dd-823a-45e6-ace6-2b704fcb5d42"
      },
      "source": [
        "#calculate system return and balance\n",
        "price['Sys_Ret'] = np.where(price.Long.shift(1) == True, price.cc, 1)\n",
        "price['Sys_Bal'] = STARTING_BALANCE * price.Sys_Ret.cumprod()\n",
        "\n",
        "price.tail()"
      ],
      "execution_count": 21,
      "outputs": [
        {
          "output_type": "execute_result",
          "data": {
            "text/html": [
              "<div>\n",
              "<style scoped>\n",
              "    .dataframe tbody tr th:only-of-type {\n",
              "        vertical-align: middle;\n",
              "    }\n",
              "\n",
              "    .dataframe tbody tr th {\n",
              "        vertical-align: top;\n",
              "    }\n",
              "\n",
              "    .dataframe thead th {\n",
              "        text-align: right;\n",
              "    }\n",
              "</style>\n",
              "<table border=\"1\" class=\"dataframe\">\n",
              "  <thead>\n",
              "    <tr style=\"text-align: right;\">\n",
              "      <th></th>\n",
              "      <th>Open</th>\n",
              "      <th>Close</th>\n",
              "      <th>oc</th>\n",
              "      <th>cc</th>\n",
              "      <th>Bench_Bal</th>\n",
              "      <th>Bench_Peak</th>\n",
              "      <th>Bench_DD</th>\n",
              "      <th>Down</th>\n",
              "      <th>Consecutive</th>\n",
              "      <th>Long</th>\n",
              "      <th>Sys_Ret</th>\n",
              "      <th>Sys_Bal</th>\n",
              "    </tr>\n",
              "    <tr>\n",
              "      <th>Date</th>\n",
              "      <th></th>\n",
              "      <th></th>\n",
              "      <th></th>\n",
              "      <th></th>\n",
              "      <th></th>\n",
              "      <th></th>\n",
              "      <th></th>\n",
              "      <th></th>\n",
              "      <th></th>\n",
              "      <th></th>\n",
              "      <th></th>\n",
              "      <th></th>\n",
              "    </tr>\n",
              "  </thead>\n",
              "  <tbody>\n",
              "    <tr>\n",
              "      <th>2020-12-24</th>\n",
              "      <td>3694.030029</td>\n",
              "      <td>3703.060059</td>\n",
              "      <td>1.002444</td>\n",
              "      <td>1.003537</td>\n",
              "      <td>25446.737491</td>\n",
              "      <td>25580.187569</td>\n",
              "      <td>-133.450078</td>\n",
              "      <td>False</td>\n",
              "      <td>0</td>\n",
              "      <td>False</td>\n",
              "      <td>1.003537</td>\n",
              "      <td>80816.150262</td>\n",
              "    </tr>\n",
              "    <tr>\n",
              "      <th>2020-12-28</th>\n",
              "      <td>3723.030029</td>\n",
              "      <td>3735.360107</td>\n",
              "      <td>1.003312</td>\n",
              "      <td>1.008723</td>\n",
              "      <td>25668.697397</td>\n",
              "      <td>25668.697397</td>\n",
              "      <td>0.000000</td>\n",
              "      <td>False</td>\n",
              "      <td>0</td>\n",
              "      <td>False</td>\n",
              "      <td>1.000000</td>\n",
              "      <td>80816.150262</td>\n",
              "    </tr>\n",
              "    <tr>\n",
              "      <th>2020-12-29</th>\n",
              "      <td>3750.010010</td>\n",
              "      <td>3727.040039</td>\n",
              "      <td>0.993875</td>\n",
              "      <td>0.997773</td>\n",
              "      <td>25611.523440</td>\n",
              "      <td>25668.697397</td>\n",
              "      <td>-57.173957</td>\n",
              "      <td>True</td>\n",
              "      <td>1</td>\n",
              "      <td>True</td>\n",
              "      <td>1.000000</td>\n",
              "      <td>80816.150262</td>\n",
              "    </tr>\n",
              "    <tr>\n",
              "      <th>2020-12-30</th>\n",
              "      <td>3736.189941</td>\n",
              "      <td>3732.040039</td>\n",
              "      <td>0.998889</td>\n",
              "      <td>1.001342</td>\n",
              "      <td>25645.882507</td>\n",
              "      <td>25668.697397</td>\n",
              "      <td>-22.814890</td>\n",
              "      <td>True</td>\n",
              "      <td>2</td>\n",
              "      <td>True</td>\n",
              "      <td>1.001342</td>\n",
              "      <td>80924.568939</td>\n",
              "    </tr>\n",
              "    <tr>\n",
              "      <th>2020-12-31</th>\n",
              "      <td>3733.270020</td>\n",
              "      <td>3756.070068</td>\n",
              "      <td>1.006107</td>\n",
              "      <td>1.006439</td>\n",
              "      <td>25811.012383</td>\n",
              "      <td>25811.012383</td>\n",
              "      <td>0.000000</td>\n",
              "      <td>False</td>\n",
              "      <td>0</td>\n",
              "      <td>False</td>\n",
              "      <td>1.006439</td>\n",
              "      <td>81445.629738</td>\n",
              "    </tr>\n",
              "  </tbody>\n",
              "</table>\n",
              "</div>"
            ],
            "text/plain": [
              "                   Open        Close        oc  ...   Long   Sys_Ret       Sys_Bal\n",
              "Date                                            ...                               \n",
              "2020-12-24  3694.030029  3703.060059  1.002444  ...  False  1.003537  80816.150262\n",
              "2020-12-28  3723.030029  3735.360107  1.003312  ...  False  1.000000  80816.150262\n",
              "2020-12-29  3750.010010  3727.040039  0.993875  ...   True  1.000000  80816.150262\n",
              "2020-12-30  3736.189941  3732.040039  0.998889  ...   True  1.001342  80924.568939\n",
              "2020-12-31  3733.270020  3756.070068  1.006107  ...  False  1.006439  81445.629738\n",
              "\n",
              "[5 rows x 12 columns]"
            ]
          },
          "metadata": {
            "tags": []
          },
          "execution_count": 21
        }
      ]
    },
    {
      "cell_type": "code",
      "metadata": {
        "colab": {
          "base_uri": "https://localhost:8080/",
          "height": 262
        },
        "id": "IMaEMEH-drBF",
        "outputId": "424428e7-e225-4156-a7f7-3d54e203e4cd"
      },
      "source": [
        "#plot results\n",
        "plt.plot(price.Bench_Bal)\n",
        "plt.plot(price.Sys_Bal)\n",
        "\n",
        "plt.show()"
      ],
      "execution_count": 22,
      "outputs": [
        {
          "output_type": "display_data",
          "data": {
            "image/png": "[encoded data removed]",
            "text/plain": [
              "<Figure size 432x288 with 1 Axes>"
            ]
          },
          "metadata": {
            "tags": [],
            "needs_background": "light"
          }
        }
      ]
    },
    {
      "cell_type": "code",
      "metadata": {
        "colab": {
          "base_uri": "https://localhost:8080/"
        },
        "id": "oqrlv5yidtRO",
        "outputId": "ba03eacd-7b02-4d9f-e168-4d128f73ba2c"
      },
      "source": [
        "\n",
        "#calculate system drawdown\n",
        "price['Sys_Peak'] = price.Sys_Bal.cummax()\n",
        "price['Sys_DD'] = price.Sys_Bal - price.Sys_Peak\n",
        "\n",
        "sys_dd = round(((price.Sys_DD / price.Sys_Peak).min()) * 100, 2)\n",
        "\n",
        "sys_dd"
      ],
      "execution_count": 23,
      "outputs": [
        {
          "output_type": "execute_result",
          "data": {
            "text/plain": [
              "-26.88"
            ]
          },
          "metadata": {
            "tags": []
          },
          "execution_count": 23
        }
      ]
    },
    {
      "cell_type": "code",
      "metadata": {
        "colab": {
          "base_uri": "https://localhost:8080/"
        },
        "id": "YHxHtSyodvEC",
        "outputId": "a29cb682-4f12-4738-e17d-eaca3388cc2f"
      },
      "source": [
        "#calculate metrics\n",
        "bench_return = round(((price.Bench_Bal[-1]/price.Bench_Bal[0]) - 1) * 100, 2)\n",
        "bench_cagr = round(((((price.Bench_Bal[-1]/price.Bench_Bal[0])**(1/YEARS))-1)*100), 2)\n",
        "sys_return = round(((price.Sys_Bal[-1]/price.Sys_Bal[0]) - 1) * 100, 2)\n",
        "sys_cagr = round(((((price.Sys_Bal[-1]/price.Sys_Bal[0])**(1/YEARS))-1)*100), 2)\n",
        "sys_in_market = round((price.Long.value_counts().loc[True] / len(price)) * 100)\n",
        "sys_win = price.Sys_Ret[price.Sys_Ret > 1.0].count()\n",
        "sys_loss = price.Sys_Ret[price.Sys_Ret < 1.0].count()\n",
        "sys_winrate = round(sys_win / (sys_win + sys_loss) * 100, 2)\n",
        "\n",
        "print(f'Benchmark Total return: {bench_return}%')\n",
        "print(f'Benchmark CAGR: {bench_cagr}')\n",
        "print(f'Benchmark DD: {bench_dd}%')\n",
        "print('')\n",
        "print(f'System Total return: {sys_return}%')\n",
        "print(f'System CAGR: {sys_cagr}')\n",
        "print(f'System DD: {sys_dd}%')\n",
        "print(f'Time in Market: {sys_in_market}%')\n",
        "print(f'Trades Won: {sys_win}')\n",
        "print(f'Trades Loss: {sys_loss}')\n",
        "print(f'Winrate: {sys_winrate}%')"
      ],
      "execution_count": 24,
      "outputs": [
        {
          "output_type": "stream",
          "text": [
            "Benchmark Total return: 158.11%\n",
            "Benchmark CAGR: 4.62\n",
            "Benchmark DD: -56.78%\n",
            "\n",
            "System Total return: 714.46%\n",
            "System CAGR: 10.5\n",
            "System DD: -26.88%\n",
            "Time in Market: 46%\n",
            "Trades Won: 1398\n",
            "Trades Loss: 1057\n",
            "Winrate: 56.95%\n"
          ],
          "name": "stdout"
        }
      ]
    },
    {
      "cell_type": "code",
      "metadata": {
        "id": "3I7wKeyxdw6-"
      },
      "source": [
        "#define list of ETFs to backtest\n",
        "symbols = ['^GSPC', '^DJI', '^IXIC', '^RUT', '^N225']"
      ],
      "execution_count": 25,
      "outputs": []
    },
    {
      "cell_type": "code",
      "metadata": {
        "id": "onfXhBOPdyks"
      },
      "source": [
        "def backtest(symbol):\n",
        "    #download data\n",
        "    price = pdr.get_data_yahoo(symbol, START, END)\n",
        "    \n",
        "    #drop redundant columns\n",
        "    price = price.drop(['High', 'Low', 'Volume', 'Adj Close'], 1)\n",
        "    \n",
        "    #calculate return and balance\n",
        "    price['oc'] = price.Close / price.Open\n",
        "    price['cc'] = price.Close / price.Close.shift(1)\n",
        "    price.cc.iat[0] = 1\n",
        "    price['Bench_Bal'] = STARTING_BALANCE * price.cc.cumprod()\n",
        "    \n",
        "    #calculate benchmark drawdown\n",
        "    price['Bench_Peak'] = price.Bench_Bal.cummax()\n",
        "    price['Bench_DD'] = price.Bench_Bal - price.Bench_Peak\n",
        "\n",
        "    #check if today is a down day\n",
        "    price['Down'] = price.oc < 1\n",
        "\n",
        "    #count consecutive down days\n",
        "    #https://stackoverflow.com/questions/27626542/counting-consecutive-positive-value-in-python-array\n",
        "    down = price['Down']\n",
        "    price['Consecutive'] = down * (down.groupby((down != down.shift()).cumsum()).cumcount() + 1)\n",
        "    \n",
        "    price['Long'] = price.Consecutive >= down_days\n",
        "\n",
        "    price['Sys_Ret'] = np.where(price.Long.shift(1) == True, price.cc, 1)\n",
        "    price['Sys_Bal'] = STARTING_BALANCE * price.Sys_Ret.cumprod()\n",
        "    \n",
        "    #calculate system drawdown\n",
        "    price['Sys_Peak'] = price.Sys_Bal.cummax()\n",
        "    price['Sys_DD'] = price.Sys_Bal - price.Sys_Peak\n",
        "  \n",
        "    #calculate metrics\n",
        "    bench_cagr = round(((((price.Bench_Bal[-1]/price.Bench_Bal[0])**(1/YEARS))-1)*100), 2)\n",
        "    bench_dd = round((price.Bench_DD / price.Bench_Peak).min() * 100, 2)\n",
        "    sys_cagr = round(((((price.Sys_Bal[-1]/price.Sys_Bal[0])**(1/YEARS))-1)*100), 2)\n",
        "    sys_dd = round(((price.Sys_DD / price.Sys_Peak).min()) * 100, 2)\n",
        "    \n",
        "    return bench_cagr, sys_cagr"
      ],
      "execution_count": 26,
      "outputs": []
    },
    {
      "cell_type": "code",
      "metadata": {
        "id": "fuF6MM4Cd0g_"
      },
      "source": [
        "#backtest multiple symbols\n",
        "bc = []\n",
        "sc = []\n",
        "\n",
        "\n",
        "for symbol in symbols:\n",
        "    bench_cagr, sys_cagr = backtest(symbol)\n",
        "    bc.append(bench_cagr)\n",
        "    sc.append(sys_cagr)"
      ],
      "execution_count": 27,
      "outputs": []
    },
    {
      "cell_type": "code",
      "metadata": {
        "colab": {
          "base_uri": "https://localhost:8080/",
          "height": 297
        },
        "id": "XgU8CdVzd2aX",
        "outputId": "4ca971ac-7959-4194-f9dc-d61040f17de4"
      },
      "source": [
        "#plot data\n",
        "x_indices = np.arange(len(symbols))\n",
        "width = 0.2\n",
        "\n",
        "plt.bar(x_indices - width / 2, bc, width = width, label = 'Benchmark')\n",
        "plt.bar(x_indices + width / 2, sc, width = width, label = 'System')\n",
        "   \n",
        "plt.xticks(ticks = x_indices, labels = symbols)\n",
        "\n",
        "plt.legend()\n",
        "\n",
        "plt.title('Backtest CAGR')\n",
        "plt.xlabel('Symbols')\n",
        "plt.ylabel('% CAGR')\n",
        "plt.tight_layout()\n",
        "\n",
        "plt.grid(False)\n",
        "plt.savefig('saved_figure.png', dpi=500)\n",
        "\n",
        "plt.show()"
      ],
      "execution_count": 28,
      "outputs": [
        {
          "output_type": "display_data",
          "data": {
            "image/png": "[encoded data removed]",
            "text/plain": [
              "<Figure size 432x288 with 1 Axes>"
            ]
          },
          "metadata": {
            "tags": [],
            "needs_background": "light"
          }
        }
      ]
    },
    {
      "cell_type": "code",
      "metadata": {
        "id": "3eM6VxOLd4eJ"
      },
      "source": [
        ""
      ],
      "execution_count": null,
      "outputs": []
    }
  ]
}