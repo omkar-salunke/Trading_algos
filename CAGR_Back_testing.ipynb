{
  "nbformat": 4,
  "nbformat_minor": 0,
  "metadata": {
    "colab": {
      "name": "CAGR_Back_testing.ipynb",
      "provenance": [],
      "collapsed_sections": [],
      "authorship_tag": "ABX9TyO0jFFld7iwL/8kQ+pvUOMt",
      "include_colab_link": true
    },
    "kernelspec": {
      "name": "python3",
      "display_name": "Python 3"
    },
    "language_info": {
      "name": "python"
    }
  },
  "cells": [
    {
      "cell_type": "markdown",
      "metadata": {
        "id": "view-in-github",
        "colab_type": "text"
      },
      "source": [
        "<a href=\"https://colab.research.google.com/github/omkar-salunke/Trading_algos/blob/main/CAGR_Back_testing.ipynb\" target=\"_parent\"><img src=\"https://colab.research.google.com/assets/colab-badge.svg\" alt=\"Open In Colab\"/></a>"
      ]
    },
    {
      "cell_type": "code",
      "metadata": {
        "id": "lHDujfSecfsd"
      },
      "source": [
        "import pandas_datareader as pdr\n",
        "import numpy as np\n",
        "import datetime\n",
        "import matplotlib.pyplot as plt\n",
        "%matplotlib inline\n",
        "\n",
        "\n"
      ],
      "execution_count": null,
      "outputs": []
    },
    {
      "cell_type": "code",
      "metadata": {
        "id": "Td0PgKV4dZBl"
      },
      "source": [
        "\n",
        "#define date range\n",
        "START = datetime.datetime(2000, 1, 1)\n",
        "END = datetime.datetime(2020, 12, 31)\n",
        "\n",
        "YEARS = (END - START).days / 365.25"
      ],
      "execution_count": null,
      "outputs": []
    },
    {
      "cell_type": "code",
      "metadata": {
        "id": "mjQHxEoQdavc"
      },
      "source": [
        "\n",
        "#define variables\n",
        "STARTING_BALANCE = 10000\n",
        "down_days = 1"
      ],
      "execution_count": null,
      "outputs": []
    },
    {
      "cell_type": "code",
      "metadata": {
        "id": "hDUZ-satdcMK"
      },
      "source": [
        "\n",
        "#download data\n",
        "price = pdr.get_data_yahoo('RELIANCE.NS', START, END)\n",
        "price.tail()"
      ],
      "execution_count": null,
      "outputs": []
    },
    {
      "cell_type": "code",
      "metadata": {
        "id": "nsQsE-juddoS"
      },
      "source": [
        "#drop redundant columns\n",
        "price = price.drop(['High', 'Low', 'Volume', 'Adj Close'], 1)\n",
        "price.tail()"
      ],
      "execution_count": null,
      "outputs": []
    },
    {
      "cell_type": "code",
      "metadata": {
        "id": "HeZXPj-vdfs9"
      },
      "source": [
        "#plot chart\n",
        "plt.style.use('bmh')\n",
        "plt.plot(price.Close)\n",
        "plt.show()"
      ],
      "execution_count": null,
      "outputs": []
    },
    {
      "cell_type": "code",
      "metadata": {
        "id": "9iXt-paJdhFj"
      },
      "source": [
        "#calculate return and balance\n",
        "price['oc'] = price.Close / price.Open\n",
        "price['cc'] = price.Close / price.Close.shift(1)\n",
        "price.cc.iat[0] = 1\n",
        "price['Bench_Bal'] = STARTING_BALANCE * price.cc.cumprod()"
      ],
      "execution_count": null,
      "outputs": []
    },
    {
      "cell_type": "code",
      "metadata": {
        "id": "iSx0WEJudjV7"
      },
      "source": [
        "#calculate benchmark drawdown\n",
        "price['Bench_Peak'] = price.Bench_Bal.cummax()\n",
        "price['Bench_DD'] = price.Bench_Bal - price.Bench_Peak\n",
        "\n",
        "bench_dd = round(((price.Bench_DD / price.Bench_Peak).min() * 100), 2)\n",
        "\n",
        "bench_dd"
      ],
      "execution_count": null,
      "outputs": []
    },
    {
      "cell_type": "code",
      "metadata": {
        "id": "rfBIk-YBdkzm"
      },
      "source": [
        "#calculate additional columns for strategy\n",
        "\n",
        "#check if today is a down day\n",
        "price['Down'] = price.oc < 1\n",
        "\n",
        "#count consecutive down days\n",
        "#https://stackoverflow.com/questions/27626542/counting-consecutive-positive-value-in-python-array\n",
        "down = price['Down']\n",
        "price['Consecutive'] = down * (down.groupby((down != down.shift()).cumsum()).cumcount() + 1)\n",
        "\n",
        "price.tail()"
      ],
      "execution_count": null,
      "outputs": []
    },
    {
      "cell_type": "code",
      "metadata": {
        "id": "fN-hI68YdmjJ"
      },
      "source": [
        "\n",
        "#identify entries and allocate trading fees\n",
        "price['Long'] = price.Consecutive >= down_days"
      ],
      "execution_count": null,
      "outputs": []
    },
    {
      "cell_type": "code",
      "metadata": {
        "id": "z7zIrOfgdoST"
      },
      "source": [
        "#calculate system return and balance\n",
        "price['Sys_Ret'] = np.where(price.Long.shift(1) == True, price.cc, 1)\n",
        "price['Sys_Bal'] = STARTING_BALANCE * price.Sys_Ret.cumprod()\n",
        "\n",
        "price.tail()"
      ],
      "execution_count": null,
      "outputs": []
    },
    {
      "cell_type": "code",
      "metadata": {
        "id": "IMaEMEH-drBF"
      },
      "source": [
        "#plot results\n",
        "plt.plot(price.Bench_Bal)\n",
        "plt.plot(price.Sys_Bal)\n",
        "\n",
        "plt.show()"
      ],
      "execution_count": null,
      "outputs": []
    },
    {
      "cell_type": "code",
      "metadata": {
        "id": "oqrlv5yidtRO"
      },
      "source": [
        "\n",
        "#calculate system drawdown\n",
        "price['Sys_Peak'] = price.Sys_Bal.cummax()\n",
        "price['Sys_DD'] = price.Sys_Bal - price.Sys_Peak\n",
        "\n",
        "sys_dd = round(((price.Sys_DD / price.Sys_Peak).min()) * 100, 2)\n",
        "\n",
        "sys_dd"
      ],
      "execution_count": null,
      "outputs": []
    },
    {
      "cell_type": "code",
      "metadata": {
        "id": "YHxHtSyodvEC"
      },
      "source": [
        "#calculate metrics\n",
        "bench_return = round(((price.Bench_Bal[-1]/price.Bench_Bal[0]) - 1) * 100, 2)\n",
        "bench_cagr = round(((((price.Bench_Bal[-1]/price.Bench_Bal[0])**(1/YEARS))-1)*100), 2)\n",
        "sys_return = round(((price.Sys_Bal[-1]/price.Sys_Bal[0]) - 1) * 100, 2)\n",
        "sys_cagr = round(((((price.Sys_Bal[-1]/price.Sys_Bal[0])**(1/YEARS))-1)*100), 2)\n",
        "sys_in_market = round((price.Long.value_counts().loc[True] / len(price)) * 100)\n",
        "sys_win = price.Sys_Ret[price.Sys_Ret > 1.0].count()\n",
        "sys_loss = price.Sys_Ret[price.Sys_Ret < 1.0].count()\n",
        "sys_winrate = round(sys_win / (sys_win + sys_loss) * 100, 2)\n",
        "\n",
        "print(f'Benchmark Total return: {bench_return}%')\n",
        "print(f'Benchmark CAGR: {bench_cagr}')\n",
        "print(f'Benchmark DD: {bench_dd}%')\n",
        "print('')\n",
        "print(f'System Total return: {sys_return}%')\n",
        "print(f'System CAGR: {sys_cagr}')\n",
        "print(f'System DD: {sys_dd}%')\n",
        "print(f'Time in Market: {sys_in_market}%')\n",
        "print(f'Trades Won: {sys_win}')\n",
        "print(f'Trades Loss: {sys_loss}')\n",
        "print(f'Winrate: {sys_winrate}%')"
      ],
      "execution_count": null,
      "outputs": []
    },
    {
      "cell_type": "code",
      "metadata": {
        "id": "3I7wKeyxdw6-"
      },
      "source": [
        "#define list of ETFs to backtest\n",
        "symbols = ['ITC.NS', 'TATAPOWER.NS', 'ADANIPORTS.NS', 'UBL.NS', 'MCDOWELL-N.NS']"
      ],
      "execution_count": null,
      "outputs": []
    },
    {
      "cell_type": "code",
      "metadata": {
        "id": "onfXhBOPdyks"
      },
      "source": [
        "def backtest(symbol):\n",
        "    #download data\n",
        "    price = pdr.get_data_yahoo(symbol, START, END)\n",
        "    \n",
        "    #drop redundant columns\n",
        "    price = price.drop(['High', 'Low', 'Volume', 'Adj Close'], 1)\n",
        "    \n",
        "    #calculate return and balance\n",
        "    price['oc'] = price.Close / price.Open\n",
        "    price['cc'] = price.Close / price.Close.shift(1)\n",
        "    price.cc.iat[0] = 1\n",
        "    price['Bench_Bal'] = STARTING_BALANCE * price.cc.cumprod()\n",
        "    \n",
        "    #calculate benchmark drawdown\n",
        "    price['Bench_Peak'] = price.Bench_Bal.cummax()\n",
        "    price['Bench_DD'] = price.Bench_Bal - price.Bench_Peak\n",
        "\n",
        "    #check if today is a down day\n",
        "    price['Down'] = price.oc < 1\n",
        "\n",
        "    #count consecutive down days\n",
        "    #https://stackoverflow.com/questions/27626542/counting-consecutive-positive-value-in-python-array\n",
        "    down = price['Down']\n",
        "    price['Consecutive'] = down * (down.groupby((down != down.shift()).cumsum()).cumcount() + 1)\n",
        "    \n",
        "    price['Long'] = price.Consecutive >= down_days\n",
        "\n",
        "    price['Sys_Ret'] = np.where(price.Long.shift(1) == True, price.cc, 1)\n",
        "    price['Sys_Bal'] = STARTING_BALANCE * price.Sys_Ret.cumprod()\n",
        "    \n",
        "    #calculate system drawdown\n",
        "    price['Sys_Peak'] = price.Sys_Bal.cummax()\n",
        "    price['Sys_DD'] = price.Sys_Bal - price.Sys_Peak\n",
        "  \n",
        "    #calculate metrics\n",
        "    bench_cagr = round(((((price.Bench_Bal[-1]/price.Bench_Bal[0])**(1/YEARS))-1)*100), 2)\n",
        "    bench_dd = round((price.Bench_DD / price.Bench_Peak).min() * 100, 2)\n",
        "    sys_cagr = round(((((price.Sys_Bal[-1]/price.Sys_Bal[0])**(1/YEARS))-1)*100), 2)\n",
        "    sys_dd = round(((price.Sys_DD / price.Sys_Peak).min()) * 100, 2)\n",
        "    \n",
        "    return bench_cagr, sys_cagr"
      ],
      "execution_count": null,
      "outputs": []
    },
    {
      "cell_type": "code",
      "metadata": {
        "id": "fuF6MM4Cd0g_"
      },
      "source": [
        "#backtest multiple symbols\n",
        "bc = []\n",
        "sc = []\n",
        "\n",
        "\n",
        "for symbol in symbols:\n",
        "    bench_cagr, sys_cagr = backtest(symbol)\n",
        "    bc.append(bench_cagr)\n",
        "    sc.append(sys_cagr)"
      ],
      "execution_count": null,
      "outputs": []
    },
    {
      "cell_type": "code",
      "metadata": {
        "id": "XgU8CdVzd2aX"
      },
      "source": [
        "#plot data\n",
        "x_indices = np.arange(len(symbols))\n",
        "width = 0.2\n",
        "\n",
        "plt.bar(x_indices - width / 2, bc, width = width, label = 'Benchmark')\n",
        "plt.bar(x_indices + width / 2, sc, width = width, label = 'System')\n",
        "   \n",
        "plt.xticks(ticks = x_indices, labels = symbols)\n",
        "\n",
        "plt.legend()\n",
        "\n",
        "plt.title('Backtest CAGR')\n",
        "plt.xlabel('Symbols')\n",
        "plt.ylabel('% CAGR')\n",
        "plt.tight_layout()\n",
        "\n",
        "plt.grid(False)\n",
        "plt.savefig('saved_figure.png', dpi=500)\n",
        "\n",
        "plt.show()"
      ],
      "execution_count": null,
      "outputs": []
    },
    {
      "cell_type": "code",
      "metadata": {
        "id": "3eM6VxOLd4eJ"
      },
      "source": [
        "# New Testing from the espilon mazzo formula\n",
        "#plot data\n",
        "x_indices = np.arange(len(symbols))\n",
        "width = 0.2\n",
        "\n",
        "plt.bar(x_indices - width / 2, bc, width = width, label = 'Benchmark')\n",
        "plt.bar(x_indices + width / 2, sc, width = width, label = 'System')\n",
        "   \n",
        "plt.xticks(ticks = x_indices, labels = symbols)\n",
        "\n",
        "plt.legend()\n",
        "\n",
        "plt.title('Backtest CAGR')\n",
        "plt.xlabel('Symbols')\n",
        "plt.ylabel('% CAGR')\n",
        "plt.tight_layout()\n",
        "\n",
        "plt.grid(False)\n",
        "plt.savefig('saved_figure.png', dpi=500)\n",
        "\n",
        "plt.show()"
      ],
      "execution_count": null,
      "outputs": []
    }
  ]
}