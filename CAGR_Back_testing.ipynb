{
  "nbformat": 4,
  "nbformat_minor": 0,
  "metadata": {
    "colab": {
      "name": "CAGR_Back_testing.ipynb",
      "provenance": [],
      "collapsed_sections": [],
      "authorship_tag": "ABX9TyO602IuobXOsOIJQxmb3FpU",
      "include_colab_link": true
    },
    "kernelspec": {
      "name": "python3",
      "display_name": "Python 3"
    },
    "language_info": {
      "name": "python"
    }
  },
  "cells": [
    {
      "cell_type": "markdown",
      "metadata": {
        "id": "view-in-github",
        "colab_type": "text"
      },
      "source": [
        "<a href=\"https://colab.research.google.com/github/omkar-salunke/Trading_algos/blob/main/CAGR_Back_testing.ipynb\" target=\"_parent\"><img src=\"https://colab.research.google.com/assets/colab-badge.svg\" alt=\"Open In Colab\"/></a>"
      ]
    },
    {
      "cell_type": "code",
      "metadata": {
        "id": "lHDujfSecfsd"
      },
      "source": [
        "import pandas_datareader as pdr\n",
        "import numpy as np\n",
        "import datetime\n",
        "import matplotlib.pyplot as plt\n",
        "%matplotlib inline\n",
        "\n",
        "\n"
      ],
      "execution_count": null,
      "outputs": []
    },
    {
      "cell_type": "code",
      "metadata": {
        "id": "Td0PgKV4dZBl"
      },
      "source": [
        "\n",
        "#define date range\n",
        "START = datetime.datetime(2000, 1, 1)\n",
        "END = datetime.datetime(2020, 12, 31)\n",
        "\n",
        "YEARS = (END - START).days / 365.25"
      ],
      "execution_count": null,
      "outputs": []
    },
    {
      "cell_type": "code",
      "metadata": {
        "id": "mjQHxEoQdavc"
      },
      "source": [
        "\n",
        "#define variables\n",
        "STARTING_BALANCE = 10000\n",
        "down_days = 1"
      ],
      "execution_count": null,
      "outputs": []
    },
    {
      "cell_type": "code",
      "metadata": {
        "colab": {
          "base_uri": "https://localhost:8080/",
          "height": 235
        },
        "id": "hDUZ-satdcMK",
        "outputId": "b1865748-4395-49ba-ee55-049066de3409"
      },
      "source": [
        "\n",
        "#download data\n",
        "price = pdr.get_data_yahoo('RELIANCE.NS', START, END)\n",
        "price.tail()"
      ],
      "execution_count": null,
      "outputs": [
        {
          "output_type": "execute_result",
          "data": {
            "text/html": [
              "<div>\n",
              "<style scoped>\n",
              "    .dataframe tbody tr th:only-of-type {\n",
              "        vertical-align: middle;\n",
              "    }\n",
              "\n",
              "    .dataframe tbody tr th {\n",
              "        vertical-align: top;\n",
              "    }\n",
              "\n",
              "    .dataframe thead th {\n",
              "        text-align: right;\n",
              "    }\n",
              "</style>\n",
              "<table border=\"1\" class=\"dataframe\">\n",
              "  <thead>\n",
              "    <tr style=\"text-align: right;\">\n",
              "      <th></th>\n",
              "      <th>High</th>\n",
              "      <th>Low</th>\n",
              "      <th>Open</th>\n",
              "      <th>Close</th>\n",
              "      <th>Volume</th>\n",
              "      <th>Adj Close</th>\n",
              "    </tr>\n",
              "    <tr>\n",
              "      <th>Date</th>\n",
              "      <th></th>\n",
              "      <th></th>\n",
              "      <th></th>\n",
              "      <th></th>\n",
              "      <th></th>\n",
              "      <th></th>\n",
              "    </tr>\n",
              "  </thead>\n",
              "  <tbody>\n",
              "    <tr>\n",
              "      <th>2020-12-28</th>\n",
              "      <td>2018.000000</td>\n",
              "      <td>1995.300049</td>\n",
              "      <td>2006.699951</td>\n",
              "      <td>2003.300049</td>\n",
              "      <td>7947719.0</td>\n",
              "      <td>2003.300049</td>\n",
              "    </tr>\n",
              "    <tr>\n",
              "      <th>2020-12-29</th>\n",
              "      <td>2012.300049</td>\n",
              "      <td>1982.550049</td>\n",
              "      <td>2009.000000</td>\n",
              "      <td>1990.050049</td>\n",
              "      <td>8589407.0</td>\n",
              "      <td>1990.050049</td>\n",
              "    </tr>\n",
              "    <tr>\n",
              "      <th>2020-12-30</th>\n",
              "      <td>2007.199951</td>\n",
              "      <td>1975.550049</td>\n",
              "      <td>1995.250000</td>\n",
              "      <td>1995.500000</td>\n",
              "      <td>10173132.0</td>\n",
              "      <td>1995.500000</td>\n",
              "    </tr>\n",
              "    <tr>\n",
              "      <th>2020-12-31</th>\n",
              "      <td>2011.900024</td>\n",
              "      <td>1978.599976</td>\n",
              "      <td>1993.500000</td>\n",
              "      <td>1985.300049</td>\n",
              "      <td>8667516.0</td>\n",
              "      <td>1985.300049</td>\n",
              "    </tr>\n",
              "    <tr>\n",
              "      <th>2021-01-01</th>\n",
              "      <td>1997.000000</td>\n",
              "      <td>1982.000000</td>\n",
              "      <td>1988.000000</td>\n",
              "      <td>1987.500000</td>\n",
              "      <td>4622002.0</td>\n",
              "      <td>1987.500000</td>\n",
              "    </tr>\n",
              "  </tbody>\n",
              "</table>\n",
              "</div>"
            ],
            "text/plain": [
              "                   High          Low  ...      Volume    Adj Close\n",
              "Date                                  ...                         \n",
              "2020-12-28  2018.000000  1995.300049  ...   7947719.0  2003.300049\n",
              "2020-12-29  2012.300049  1982.550049  ...   8589407.0  1990.050049\n",
              "2020-12-30  2007.199951  1975.550049  ...  10173132.0  1995.500000\n",
              "2020-12-31  2011.900024  1978.599976  ...   8667516.0  1985.300049\n",
              "2021-01-01  1997.000000  1982.000000  ...   4622002.0  1987.500000\n",
              "\n",
              "[5 rows x 6 columns]"
            ]
          },
          "metadata": {
            "tags": []
          },
          "execution_count": 110
        }
      ]
    },
    {
      "cell_type": "code",
      "metadata": {
        "colab": {
          "base_uri": "https://localhost:8080/",
          "height": 235
        },
        "id": "nsQsE-juddoS",
        "outputId": "322cc120-cd9e-484c-ddbc-8a77c646677f"
      },
      "source": [
        "#drop redundant columns\n",
        "price = price.drop(['High', 'Low', 'Volume', 'Adj Close'], 1)\n",
        "price.tail()"
      ],
      "execution_count": null,
      "outputs": [
        {
          "output_type": "execute_result",
          "data": {
            "text/html": [
              "<div>\n",
              "<style scoped>\n",
              "    .dataframe tbody tr th:only-of-type {\n",
              "        vertical-align: middle;\n",
              "    }\n",
              "\n",
              "    .dataframe tbody tr th {\n",
              "        vertical-align: top;\n",
              "    }\n",
              "\n",
              "    .dataframe thead th {\n",
              "        text-align: right;\n",
              "    }\n",
              "</style>\n",
              "<table border=\"1\" class=\"dataframe\">\n",
              "  <thead>\n",
              "    <tr style=\"text-align: right;\">\n",
              "      <th></th>\n",
              "      <th>Open</th>\n",
              "      <th>Close</th>\n",
              "    </tr>\n",
              "    <tr>\n",
              "      <th>Date</th>\n",
              "      <th></th>\n",
              "      <th></th>\n",
              "    </tr>\n",
              "  </thead>\n",
              "  <tbody>\n",
              "    <tr>\n",
              "      <th>2020-12-28</th>\n",
              "      <td>2006.699951</td>\n",
              "      <td>2003.300049</td>\n",
              "    </tr>\n",
              "    <tr>\n",
              "      <th>2020-12-29</th>\n",
              "      <td>2009.000000</td>\n",
              "      <td>1990.050049</td>\n",
              "    </tr>\n",
              "    <tr>\n",
              "      <th>2020-12-30</th>\n",
              "      <td>1995.250000</td>\n",
              "      <td>1995.500000</td>\n",
              "    </tr>\n",
              "    <tr>\n",
              "      <th>2020-12-31</th>\n",
              "      <td>1993.500000</td>\n",
              "      <td>1985.300049</td>\n",
              "    </tr>\n",
              "    <tr>\n",
              "      <th>2021-01-01</th>\n",
              "      <td>1988.000000</td>\n",
              "      <td>1987.500000</td>\n",
              "    </tr>\n",
              "  </tbody>\n",
              "</table>\n",
              "</div>"
            ],
            "text/plain": [
              "                   Open        Close\n",
              "Date                                \n",
              "2020-12-28  2006.699951  2003.300049\n",
              "2020-12-29  2009.000000  1990.050049\n",
              "2020-12-30  1995.250000  1995.500000\n",
              "2020-12-31  1993.500000  1985.300049\n",
              "2021-01-01  1988.000000  1987.500000"
            ]
          },
          "metadata": {
            "tags": []
          },
          "execution_count": 111
        }
      ]
    },
    {
      "cell_type": "code",
      "metadata": {
        "colab": {
          "base_uri": "https://localhost:8080/",
          "height": 262
        },
        "id": "HeZXPj-vdfs9",
        "outputId": "e737f62a-1fde-4304-dca1-364be42241e7"
      },
      "source": [
        "#plot chart\n",
        "plt.style.use('bmh')\n",
        "plt.plot(price.Close)\n",
        "plt.show()"
      ],
      "execution_count": null,
      "outputs": [
        {
          "output_type": "display_data",
          "data": {
            "image/png": "[encoded data removed]",
            "text/plain": [
              "<Figure size 432x288 with 1 Axes>"
            ]
          },
          "metadata": {
            "tags": [],
            "needs_background": "light"
          }
        }
      ]
    },
    {
      "cell_type": "code",
      "metadata": {
        "id": "9iXt-paJdhFj"
      },
      "source": [
        "#calculate return and balance\n",
        "price['oc'] = price.Close / price.Open\n",
        "price['cc'] = price.Close / price.Close.shift(1)\n",
        "price.cc.iat[0] = 1\n",
        "price['Bench_Bal'] = STARTING_BALANCE * price.cc.cumprod()"
      ],
      "execution_count": null,
      "outputs": []
    },
    {
      "cell_type": "code",
      "metadata": {
        "colab": {
          "base_uri": "https://localhost:8080/"
        },
        "id": "iSx0WEJudjV7",
        "outputId": "703b428d-c215-4053-f2e8-d77f637c2e39"
      },
      "source": [
        "#calculate benchmark drawdown\n",
        "price['Bench_Peak'] = price.Bench_Bal.cummax()\n",
        "price['Bench_DD'] = price.Bench_Bal - price.Bench_Peak\n",
        "\n",
        "bench_dd = round(((price.Bench_DD / price.Bench_Peak).min() * 100), 2)\n",
        "\n",
        "bench_dd"
      ],
      "execution_count": null,
      "outputs": [
        {
          "output_type": "execute_result",
          "data": {
            "text/plain": [
              "-68.35"
            ]
          },
          "metadata": {
            "tags": []
          },
          "execution_count": 114
        }
      ]
    },
    {
      "cell_type": "code",
      "metadata": {
        "colab": {
          "base_uri": "https://localhost:8080/",
          "height": 235
        },
        "id": "rfBIk-YBdkzm",
        "outputId": "daf71ffc-99c2-44dd-8786-b7f88bb1a5d0"
      },
      "source": [
        "#calculate additional columns for strategy\n",
        "\n",
        "#check if today is a down day\n",
        "price['Down'] = price.oc < 1\n",
        "\n",
        "#count consecutive down days\n",
        "#https://stackoverflow.com/questions/27626542/counting-consecutive-positive-value-in-python-array\n",
        "down = price['Down']\n",
        "price['Consecutive'] = down * (down.groupby((down != down.shift()).cumsum()).cumcount() + 1)\n",
        "\n",
        "price.tail()"
      ],
      "execution_count": null,
      "outputs": [
        {
          "output_type": "execute_result",
          "data": {
            "text/html": [
              "<div>\n",
              "<style scoped>\n",
              "    .dataframe tbody tr th:only-of-type {\n",
              "        vertical-align: middle;\n",
              "    }\n",
              "\n",
              "    .dataframe tbody tr th {\n",
              "        vertical-align: top;\n",
              "    }\n",
              "\n",
              "    .dataframe thead th {\n",
              "        text-align: right;\n",
              "    }\n",
              "</style>\n",
              "<table border=\"1\" class=\"dataframe\">\n",
              "  <thead>\n",
              "    <tr style=\"text-align: right;\">\n",
              "      <th></th>\n",
              "      <th>Open</th>\n",
              "      <th>Close</th>\n",
              "      <th>oc</th>\n",
              "      <th>cc</th>\n",
              "      <th>Bench_Bal</th>\n",
              "      <th>Bench_Peak</th>\n",
              "      <th>Bench_DD</th>\n",
              "      <th>Down</th>\n",
              "      <th>Consecutive</th>\n",
              "    </tr>\n",
              "    <tr>\n",
              "      <th>Date</th>\n",
              "      <th></th>\n",
              "      <th></th>\n",
              "      <th></th>\n",
              "      <th></th>\n",
              "      <th></th>\n",
              "      <th></th>\n",
              "      <th></th>\n",
              "      <th></th>\n",
              "      <th></th>\n",
              "    </tr>\n",
              "  </thead>\n",
              "  <tbody>\n",
              "    <tr>\n",
              "      <th>2020-12-28</th>\n",
              "      <td>2006.699951</td>\n",
              "      <td>2003.300049</td>\n",
              "      <td>0.998306</td>\n",
              "      <td>1.004588</td>\n",
              "      <td>514397.801566</td>\n",
              "      <td>596886.839516</td>\n",
              "      <td>-82489.037950</td>\n",
              "      <td>True</td>\n",
              "      <td>1</td>\n",
              "    </tr>\n",
              "    <tr>\n",
              "      <th>2020-12-29</th>\n",
              "      <td>2009.000000</td>\n",
              "      <td>1990.050049</td>\n",
              "      <td>0.990567</td>\n",
              "      <td>0.993386</td>\n",
              "      <td>510995.529962</td>\n",
              "      <td>596886.839516</td>\n",
              "      <td>-85891.309554</td>\n",
              "      <td>True</td>\n",
              "      <td>2</td>\n",
              "    </tr>\n",
              "    <tr>\n",
              "      <th>2020-12-30</th>\n",
              "      <td>1995.250000</td>\n",
              "      <td>1995.500000</td>\n",
              "      <td>1.000125</td>\n",
              "      <td>1.002739</td>\n",
              "      <td>512394.942348</td>\n",
              "      <td>596886.839516</td>\n",
              "      <td>-84491.897168</td>\n",
              "      <td>False</td>\n",
              "      <td>0</td>\n",
              "    </tr>\n",
              "    <tr>\n",
              "      <th>2020-12-31</th>\n",
              "      <td>1993.500000</td>\n",
              "      <td>1985.300049</td>\n",
              "      <td>0.995887</td>\n",
              "      <td>0.994889</td>\n",
              "      <td>509775.847689</td>\n",
              "      <td>596886.839516</td>\n",
              "      <td>-87110.991827</td>\n",
              "      <td>True</td>\n",
              "      <td>1</td>\n",
              "    </tr>\n",
              "    <tr>\n",
              "      <th>2021-01-01</th>\n",
              "      <td>1988.000000</td>\n",
              "      <td>1987.500000</td>\n",
              "      <td>0.999748</td>\n",
              "      <td>1.001108</td>\n",
              "      <td>510340.740625</td>\n",
              "      <td>596886.839516</td>\n",
              "      <td>-86546.098891</td>\n",
              "      <td>True</td>\n",
              "      <td>2</td>\n",
              "    </tr>\n",
              "  </tbody>\n",
              "</table>\n",
              "</div>"
            ],
            "text/plain": [
              "                   Open        Close  ...   Down  Consecutive\n",
              "Date                                  ...                    \n",
              "2020-12-28  2006.699951  2003.300049  ...   True            1\n",
              "2020-12-29  2009.000000  1990.050049  ...   True            2\n",
              "2020-12-30  1995.250000  1995.500000  ...  False            0\n",
              "2020-12-31  1993.500000  1985.300049  ...   True            1\n",
              "2021-01-01  1988.000000  1987.500000  ...   True            2\n",
              "\n",
              "[5 rows x 9 columns]"
            ]
          },
          "metadata": {
            "tags": []
          },
          "execution_count": 115
        }
      ]
    },
    {
      "cell_type": "code",
      "metadata": {
        "id": "fN-hI68YdmjJ"
      },
      "source": [
        "\n",
        "#identify entries and allocate trading fees\n",
        "price['Long'] = price.Consecutive >= down_days"
      ],
      "execution_count": null,
      "outputs": []
    },
    {
      "cell_type": "code",
      "metadata": {
        "colab": {
          "base_uri": "https://localhost:8080/",
          "height": 235
        },
        "id": "z7zIrOfgdoST",
        "outputId": "6da59cf5-7e30-4fac-8c60-d59dd7c8cb8a"
      },
      "source": [
        "#calculate system return and balance\n",
        "price['Sys_Ret'] = np.where(price.Long.shift(1) == True, price.cc, 1)\n",
        "price['Sys_Bal'] = STARTING_BALANCE * price.Sys_Ret.cumprod()\n",
        "\n",
        "price.tail()"
      ],
      "execution_count": null,
      "outputs": [
        {
          "output_type": "execute_result",
          "data": {
            "text/html": [
              "<div>\n",
              "<style scoped>\n",
              "    .dataframe tbody tr th:only-of-type {\n",
              "        vertical-align: middle;\n",
              "    }\n",
              "\n",
              "    .dataframe tbody tr th {\n",
              "        vertical-align: top;\n",
              "    }\n",
              "\n",
              "    .dataframe thead th {\n",
              "        text-align: right;\n",
              "    }\n",
              "</style>\n",
              "<table border=\"1\" class=\"dataframe\">\n",
              "  <thead>\n",
              "    <tr style=\"text-align: right;\">\n",
              "      <th></th>\n",
              "      <th>Open</th>\n",
              "      <th>Close</th>\n",
              "      <th>oc</th>\n",
              "      <th>cc</th>\n",
              "      <th>Bench_Bal</th>\n",
              "      <th>Bench_Peak</th>\n",
              "      <th>Bench_DD</th>\n",
              "      <th>Down</th>\n",
              "      <th>Consecutive</th>\n",
              "      <th>Long</th>\n",
              "      <th>Sys_Ret</th>\n",
              "      <th>Sys_Bal</th>\n",
              "    </tr>\n",
              "    <tr>\n",
              "      <th>Date</th>\n",
              "      <th></th>\n",
              "      <th></th>\n",
              "      <th></th>\n",
              "      <th></th>\n",
              "      <th></th>\n",
              "      <th></th>\n",
              "      <th></th>\n",
              "      <th></th>\n",
              "      <th></th>\n",
              "      <th></th>\n",
              "      <th></th>\n",
              "      <th></th>\n",
              "    </tr>\n",
              "  </thead>\n",
              "  <tbody>\n",
              "    <tr>\n",
              "      <th>2020-12-28</th>\n",
              "      <td>2006.699951</td>\n",
              "      <td>2003.300049</td>\n",
              "      <td>0.998306</td>\n",
              "      <td>1.004588</td>\n",
              "      <td>514397.801566</td>\n",
              "      <td>596886.839516</td>\n",
              "      <td>-82489.037950</td>\n",
              "      <td>True</td>\n",
              "      <td>1</td>\n",
              "      <td>True</td>\n",
              "      <td>1.000000</td>\n",
              "      <td>12601.690211</td>\n",
              "    </tr>\n",
              "    <tr>\n",
              "      <th>2020-12-29</th>\n",
              "      <td>2009.000000</td>\n",
              "      <td>1990.050049</td>\n",
              "      <td>0.990567</td>\n",
              "      <td>0.993386</td>\n",
              "      <td>510995.529962</td>\n",
              "      <td>596886.839516</td>\n",
              "      <td>-85891.309554</td>\n",
              "      <td>True</td>\n",
              "      <td>2</td>\n",
              "      <td>True</td>\n",
              "      <td>0.993386</td>\n",
              "      <td>12518.341541</td>\n",
              "    </tr>\n",
              "    <tr>\n",
              "      <th>2020-12-30</th>\n",
              "      <td>1995.250000</td>\n",
              "      <td>1995.500000</td>\n",
              "      <td>1.000125</td>\n",
              "      <td>1.002739</td>\n",
              "      <td>512394.942348</td>\n",
              "      <td>596886.839516</td>\n",
              "      <td>-84491.897168</td>\n",
              "      <td>False</td>\n",
              "      <td>0</td>\n",
              "      <td>False</td>\n",
              "      <td>1.002739</td>\n",
              "      <td>12552.624272</td>\n",
              "    </tr>\n",
              "    <tr>\n",
              "      <th>2020-12-31</th>\n",
              "      <td>1993.500000</td>\n",
              "      <td>1985.300049</td>\n",
              "      <td>0.995887</td>\n",
              "      <td>0.994889</td>\n",
              "      <td>509775.847689</td>\n",
              "      <td>596886.839516</td>\n",
              "      <td>-87110.991827</td>\n",
              "      <td>True</td>\n",
              "      <td>1</td>\n",
              "      <td>True</td>\n",
              "      <td>1.000000</td>\n",
              "      <td>12552.624272</td>\n",
              "    </tr>\n",
              "    <tr>\n",
              "      <th>2021-01-01</th>\n",
              "      <td>1988.000000</td>\n",
              "      <td>1987.500000</td>\n",
              "      <td>0.999748</td>\n",
              "      <td>1.001108</td>\n",
              "      <td>510340.740625</td>\n",
              "      <td>596886.839516</td>\n",
              "      <td>-86546.098891</td>\n",
              "      <td>True</td>\n",
              "      <td>2</td>\n",
              "      <td>True</td>\n",
              "      <td>1.001108</td>\n",
              "      <td>12566.534089</td>\n",
              "    </tr>\n",
              "  </tbody>\n",
              "</table>\n",
              "</div>"
            ],
            "text/plain": [
              "                   Open        Close        oc  ...   Long   Sys_Ret       Sys_Bal\n",
              "Date                                            ...                               \n",
              "2020-12-28  2006.699951  2003.300049  0.998306  ...   True  1.000000  12601.690211\n",
              "2020-12-29  2009.000000  1990.050049  0.990567  ...   True  0.993386  12518.341541\n",
              "2020-12-30  1995.250000  1995.500000  1.000125  ...  False  1.002739  12552.624272\n",
              "2020-12-31  1993.500000  1985.300049  0.995887  ...   True  1.000000  12552.624272\n",
              "2021-01-01  1988.000000  1987.500000  0.999748  ...   True  1.001108  12566.534089\n",
              "\n",
              "[5 rows x 12 columns]"
            ]
          },
          "metadata": {
            "tags": []
          },
          "execution_count": 117
        }
      ]
    },
    {
      "cell_type": "code",
      "metadata": {
        "colab": {
          "base_uri": "https://localhost:8080/",
          "height": 262
        },
        "id": "IMaEMEH-drBF",
        "outputId": "90c15dc8-229b-43bf-c9f2-d8acf635fba7"
      },
      "source": [
        "#plot results\n",
        "plt.plot(price.Bench_Bal)\n",
        "plt.plot(price.Sys_Bal)\n",
        "\n",
        "plt.show()"
      ],
      "execution_count": null,
      "outputs": [
        {
          "output_type": "display_data",
          "data": {
            "image/png": "[encoded data removed]",
            "text/plain": [
              "<Figure size 432x288 with 1 Axes>"
            ]
          },
          "metadata": {
            "tags": [],
            "needs_background": "light"
          }
        }
      ]
    },
    {
      "cell_type": "code",
      "metadata": {
        "colab": {
          "base_uri": "https://localhost:8080/"
        },
        "id": "oqrlv5yidtRO",
        "outputId": "07009d6c-82d2-4c5a-b4e9-42ee8dd9604e"
      },
      "source": [
        "\n",
        "#calculate system drawdown\n",
        "price['Sys_Peak'] = price.Sys_Bal.cummax()\n",
        "price['Sys_DD'] = price.Sys_Bal - price.Sys_Peak\n",
        "\n",
        "sys_dd = round(((price.Sys_DD / price.Sys_Peak).min()) * 100, 2)\n",
        "\n",
        "sys_dd"
      ],
      "execution_count": null,
      "outputs": [
        {
          "output_type": "execute_result",
          "data": {
            "text/plain": [
              "-67.77"
            ]
          },
          "metadata": {
            "tags": []
          },
          "execution_count": 119
        }
      ]
    },
    {
      "cell_type": "code",
      "metadata": {
        "colab": {
          "base_uri": "https://localhost:8080/"
        },
        "id": "YHxHtSyodvEC",
        "outputId": "c5495b03-471b-4087-bfa5-2f3209c7a6d6"
      },
      "source": [
        "#calculate metrics\n",
        "bench_return = round(((price.Bench_Bal[-1]/price.Bench_Bal[0]) - 1) * 100, 2)\n",
        "bench_cagr = round(((((price.Bench_Bal[-1]/price.Bench_Bal[0])**(1/YEARS))-1)*100), 2)\n",
        "sys_return = round(((price.Sys_Bal[-1]/price.Sys_Bal[0]) - 1) * 100, 2)\n",
        "sys_cagr = round(((((price.Sys_Bal[-1]/price.Sys_Bal[0])**(1/YEARS))-1)*100), 2)\n",
        "sys_in_market = round((price.Long.value_counts().loc[True] / len(price)) * 100)\n",
        "sys_win = price.Sys_Ret[price.Sys_Ret > 1.0].count()\n",
        "sys_loss = price.Sys_Ret[price.Sys_Ret < 1.0].count()\n",
        "sys_winrate = round(sys_win / (sys_win + sys_loss) * 100, 2)\n",
        "\n",
        "print(f'Benchmark Total return: {bench_return}%')\n",
        "print(f'Benchmark CAGR: {bench_cagr}')\n",
        "print(f'Benchmark DD: {bench_dd}%')\n",
        "print('')\n",
        "print(f'System Total return: {sys_return}%')\n",
        "print(f'System CAGR: {sys_cagr}')\n",
        "print(f'System DD: {sys_dd}%')\n",
        "print(f'Time in Market: {sys_in_market}%')\n",
        "print(f'Trades Won: {sys_win}')\n",
        "print(f'Trades Loss: {sys_loss}')\n",
        "print(f'Winrate: {sys_winrate}%')"
      ],
      "execution_count": null,
      "outputs": [
        {
          "output_type": "stream",
          "text": [
            "Benchmark Total return: 5003.41%\n",
            "Benchmark CAGR: 20.6\n",
            "Benchmark DD: -68.35%\n",
            "\n",
            "System Total return: 25.67%\n",
            "System CAGR: 1.09\n",
            "System DD: -67.77%\n",
            "Time in Market: 52%\n",
            "Trades Won: 1382\n",
            "Trades Loss: 1314\n",
            "Winrate: 51.26%\n"
          ],
          "name": "stdout"
        }
      ]
    },
    {
      "cell_type": "code",
      "metadata": {
        "id": "3I7wKeyxdw6-"
      },
      "source": [
        "#define list of ETFs to backtest\n",
        "symbols = ['ITC.NS', 'TATAPOWER.NS', 'ADANIPORTS.NS', 'UBL.NS', 'MCDOWELL-N.NS']"
      ],
      "execution_count": null,
      "outputs": []
    },
    {
      "cell_type": "code",
      "metadata": {
        "id": "onfXhBOPdyks"
      },
      "source": [
        "def backtest(symbol):\n",
        "    #download data\n",
        "    price = pdr.get_data_yahoo(symbol, START, END)\n",
        "    \n",
        "    #drop redundant columns\n",
        "    price = price.drop(['High', 'Low', 'Volume', 'Adj Close'], 1)\n",
        "    \n",
        "    #calculate return and balance\n",
        "    price['oc'] = price.Close / price.Open\n",
        "    price['cc'] = price.Close / price.Close.shift(1)\n",
        "    price.cc.iat[0] = 1\n",
        "    price['Bench_Bal'] = STARTING_BALANCE * price.cc.cumprod()\n",
        "    \n",
        "    #calculate benchmark drawdown\n",
        "    price['Bench_Peak'] = price.Bench_Bal.cummax()\n",
        "    price['Bench_DD'] = price.Bench_Bal - price.Bench_Peak\n",
        "\n",
        "    #check if today is a down day\n",
        "    price['Down'] = price.oc < 1\n",
        "\n",
        "    #count consecutive down days\n",
        "    #https://stackoverflow.com/questions/27626542/counting-consecutive-positive-value-in-python-array\n",
        "    down = price['Down']\n",
        "    price['Consecutive'] = down * (down.groupby((down != down.shift()).cumsum()).cumcount() + 1)\n",
        "    \n",
        "    price['Long'] = price.Consecutive >= down_days\n",
        "\n",
        "    price['Sys_Ret'] = np.where(price.Long.shift(1) == True, price.cc, 1)\n",
        "    price['Sys_Bal'] = STARTING_BALANCE * price.Sys_Ret.cumprod()\n",
        "    \n",
        "    #calculate system drawdown\n",
        "    price['Sys_Peak'] = price.Sys_Bal.cummax()\n",
        "    price['Sys_DD'] = price.Sys_Bal - price.Sys_Peak\n",
        "  \n",
        "    #calculate metrics\n",
        "    bench_cagr = round(((((price.Bench_Bal[-1]/price.Bench_Bal[0])**(1/YEARS))-1)*100), 2)\n",
        "    bench_dd = round((price.Bench_DD / price.Bench_Peak).min() * 100, 2)\n",
        "    sys_cagr = round(((((price.Sys_Bal[-1]/price.Sys_Bal[0])**(1/YEARS))-1)*100), 2)\n",
        "    sys_dd = round(((price.Sys_DD / price.Sys_Peak).min()) * 100, 2)\n",
        "    \n",
        "    return bench_cagr, sys_cagr"
      ],
      "execution_count": null,
      "outputs": []
    },
    {
      "cell_type": "code",
      "metadata": {
        "id": "fuF6MM4Cd0g_"
      },
      "source": [
        "#backtest multiple symbols\n",
        "bc = []\n",
        "sc = []\n",
        "\n",
        "\n",
        "for symbol in symbols:\n",
        "    bench_cagr, sys_cagr = backtest(symbol)\n",
        "    bc.append(bench_cagr)\n",
        "    sc.append(sys_cagr)"
      ],
      "execution_count": null,
      "outputs": []
    },
    {
      "cell_type": "code",
      "metadata": {
        "colab": {
          "base_uri": "https://localhost:8080/",
          "height": 297
        },
        "id": "XgU8CdVzd2aX",
        "outputId": "3d10f89f-e3a2-426a-f05e-878f7e922085"
      },
      "source": [
        "#plot data\n",
        "x_indices = np.arange(len(symbols))\n",
        "width = 0.2\n",
        "\n",
        "plt.bar(x_indices - width / 2, bc, width = width, label = 'Benchmark')\n",
        "plt.bar(x_indices + width / 2, sc, width = width, label = 'System')\n",
        "   \n",
        "plt.xticks(ticks = x_indices, labels = symbols)\n",
        "\n",
        "plt.legend()\n",
        "\n",
        "plt.title('Backtest CAGR')\n",
        "plt.xlabel('Symbols')\n",
        "plt.ylabel('% CAGR')\n",
        "plt.tight_layout()\n",
        "\n",
        "plt.grid(False)\n",
        "plt.savefig('saved_figure.png', dpi=500)\n",
        "\n",
        "plt.show()"
      ],
      "execution_count": null,
      "outputs": [
        {
          "output_type": "display_data",
          "data": {
            "image/png": "[encoded data removed]",
            "text/plain": [
              "<Figure size 432x288 with 1 Axes>"
            ]
          },
          "metadata": {
            "tags": [],
            "needs_background": "light"
          }
        }
      ]
    },
    {
      "cell_type": "code",
      "metadata": {
        "id": "3eM6VxOLd4eJ"
      },
      "source": [
        ""
      ],
      "execution_count": null,
      "outputs": []
    }
  ]
}